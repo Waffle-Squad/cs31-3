{
  "nbformat": 4,
  "nbformat_minor": 0,
  "metadata": {
    "colab": {
      "name": "Data Augmentation-Y（+ResNet+Transfor+flow）V1.0.ipynb",
      "provenance": [],
      "collapsed_sections": []
    },
    "kernelspec": {
      "name": "python3",
      "display_name": "Python 3"
    },
    "language_info": {
      "name": "python"
    },
    "accelerator": "GPU"
  },
  "cells": [
    {
      "cell_type": "code",
      "metadata": {
        "id": "OS4TbyC4K5KD"
      },
      "source": [
        "# keras相关包\n",
        "from tensorflow.keras.applications import ResNet50\n",
        "from keras.layers import Flatten\n",
        "from keras.layers import Dense\n",
        "from keras.layers import Input\n",
        "from keras.models import Model\n",
        "from tensorflow.keras.optimizers import SGD\n",
        "from keras.preprocessing.image import ImageDataGenerator\n",
        "from keras.callbacks import ModelCheckpoint\n",
        "from keras.preprocessing.image import load_img\n",
        "from keras.preprocessing.image import img_to_array\n",
        "\n",
        "# sklearn相关包\n",
        "from sklearn.metrics import classification_report\n",
        "from sklearn.preprocessing import LabelBinarizer\n",
        "from sklearn.feature_extraction.image import extract_patches_2d\n",
        "\n",
        "import numpy as np\n",
        "import cv2\n",
        "import os\n",
        "from imutils import paths\n",
        "import progressbar\n",
        "\n",
        "# 作图\n",
        "import matplotlib.pyplot as plt\n",
        "%matplotlib inline"
      ],
      "execution_count": null,
      "outputs": []
    },
    {
      "cell_type": "code",
      "metadata": {
        "colab": {
          "base_uri": "https://localhost:8080/"
        },
        "id": "RzrPbENqMzeg",
        "outputId": "a0c23572-8e2f-4cde-826c-aa4d2df7de1d"
      },
      "source": [
        "from google.colab import drive\n",
        "drive.mount('/content/drive')"
      ],
      "execution_count": null,
      "outputs": [
        {
          "output_type": "stream",
          "name": "stdout",
          "text": [
            "Drive already mounted at /content/drive; to attempt to forcibly remount, call drive.mount(\"/content/drive\", force_remount=True).\n"
          ]
        }
      ]
    },
    {
      "cell_type": "code",
      "metadata": {
        "id": "EjvD7tBdM4bF"
      },
      "source": [
        "#设置随机种子\n",
        "np.random.seed(161)\n",
        "\n",
        "from keras.datasets import cifar10\n",
        "\n",
        "#读取数据集\n",
        "(x_train, y_train), (x_test, y_test) = cifar10.load_data()\n",
        "\n",
        "#归一化\n",
        "x_train = x_train / 255.0\n",
        "x_test = x_test / 255.0"
      ],
      "execution_count": null,
      "outputs": []
    },
    {
      "cell_type": "code",
      "metadata": {
        "id": "w2Xg1q1cM4d7"
      },
      "source": [
        "train_classes, train_class_counts = np.unique(y_train, return_counts=True)\n",
        "nb_train_classes = len(train_classes)\n",
        "imbal_class_counts = [500, 1000] * 5\n",
        "\n",
        "class_indices = [np.where(y_train == i)[0] for i in range(nb_train_classes)]"
      ],
      "execution_count": null,
      "outputs": []
    },
    {
      "cell_type": "code",
      "metadata": {
        "id": "mPPyBWMlM4gs"
      },
      "source": [
        "imbal_class_indices = [class_idx[:class_count] for class_idx, class_count in zip(class_indices, imbal_class_counts)]\n",
        "imbal_class_indices = np.hstack(imbal_class_indices)\n",
        "\n",
        "y_train = y_train[imbal_class_indices]\n",
        "x_train = x_train[imbal_class_indices]"
      ],
      "execution_count": null,
      "outputs": []
    },
    {
      "cell_type": "code",
      "metadata": {
        "colab": {
          "base_uri": "https://localhost:8080/"
        },
        "id": "a0XSF2grOJv_",
        "outputId": "33ff49f7-fa07-40c3-a0ea-6f7f5bb3a103"
      },
      "source": [
        "len(x_train)"
      ],
      "execution_count": null,
      "outputs": [
        {
          "output_type": "execute_result",
          "data": {
            "text/plain": [
              "7500"
            ]
          },
          "metadata": {},
          "execution_count": 7
        }
      ]
    },
    {
      "cell_type": "code",
      "metadata": {
        "id": "wOlJrzR-M4i-"
      },
      "source": [
        "from keras.utils.np_utils import to_categorical\n",
        "\n",
        "# Y 热编码\n",
        "y_train_oh = to_categorical(y_train)\n",
        "y_test_oh = to_categorical(y_test)"
      ],
      "execution_count": null,
      "outputs": []
    },
    {
      "cell_type": "code",
      "metadata": {
        "colab": {
          "base_uri": "https://localhost:8080/",
          "height": 266
        },
        "id": "FoNzVP9UM4lg",
        "outputId": "11a458ab-ef0f-416c-8b9b-eb13d4ed0fa7"
      },
      "source": [
        "plt.imshow(x_train[2])\n",
        "plt.show()"
      ],
      "execution_count": null,
      "outputs": [
        {
          "output_type": "display_data",
          "data": {
            "image/png": "[encoded data removed]",
            "text/plain": [
              "<Figure size 432x288 with 1 Axes>"
            ]
          },
          "metadata": {
            "needs_background": "light"
          }
        }
      ]
    },
    {
      "cell_type": "code",
      "metadata": {
        "id": "w_MLXJiZNCZW"
      },
      "source": [
        "# 加载不包含top层的ResNet50作为baseModel\n",
        "baseModel = ResNet50(weights=\"imagenet\", include_top=False, input_tensor=Input(shape=(32, 32, 3)))"
      ],
      "execution_count": null,
      "outputs": []
    },
    {
      "cell_type": "code",
      "metadata": {
        "id": "mlKJFEqqNCcI"
      },
      "source": [
        "\n",
        "def headmodel(baseModel):\n",
        "    # 在baseModel基础上添加新的层\n",
        "    headModel = baseModel.output\n",
        "    \n",
        "    # 新的 top 层\n",
        "    headModel = Flatten()(headModel)\n",
        "    headModel = Dense(10, activation=\"softmax\")(headModel)\n",
        "\n",
        "    return headModel"
      ],
      "execution_count": null,
      "outputs": []
    },
    {
      "cell_type": "code",
      "metadata": {
        "id": "3qEKkivaNCex"
      },
      "source": [
        "headModel = headmodel(baseModel)\n",
        "model = Model(inputs=baseModel.input, outputs=headModel)"
      ],
      "execution_count": null,
      "outputs": []
    },
    {
      "cell_type": "code",
      "metadata": {
        "id": "K_reHWm0NIHI"
      },
      "source": [
        "#图片增广\n",
        "# 首先利用ImageDataGenerator类实例化一个图像生成器对象，设置图片增广相关的参数。\n",
        "aug00 = ImageDataGenerator(rotation_range=30,\n",
        "                         width_shift_range=0.1,\n",
        "                         height_shift_range=0.1, \n",
        "                         shear_range=0.2, \n",
        "                         zoom_range=0.2,\n",
        "                         horizontal_flip=True,\n",
        "                         fill_mode=\"nearest\")"
      ],
      "execution_count": null,
      "outputs": []
    },
    {
      "cell_type": "code",
      "metadata": {
        "id": "SNN5UkvbNIKH"
      },
      "source": [
        "# 保存模型快照的回调函数\n",
        "modelname = \"cifar10-resnet50-weights-{epoch:03d}-{val_loss:.4f}.hdf5\"\n",
        "checkpoint = ModelCheckpoint(modelname, monitor=\"val_loss\", mode=\"min\", save_best_only=True)"
      ],
      "execution_count": null,
      "outputs": []
    },
    {
      "cell_type": "code",
      "metadata": {
        "id": "ZVo20FH4NIM8"
      },
      "source": [
        "# 模型编译¶\n",
        "# 编译模型需要指定优化器算法，loss函数和评估指标。之前的案例一直是二分类问题，所以loss函数使用的是binary_crossentropy，现在是多分类问题，loss函数使用categorical_crossentropy。\n",
        "\n",
        "# 冻结住baseModel所有层的参数不学习\n",
        "for layer in baseModel.layers:\n",
        "    layer.trainable = False"
      ],
      "execution_count": null,
      "outputs": []
    },
    {
      "cell_type": "code",
      "metadata": {
        "colab": {
          "base_uri": "https://localhost:8080/"
        },
        "id": "YDCsKjEsNIPZ",
        "outputId": "389f149a-9fa4-4180-e2ab-0c9c8e5eef71"
      },
      "source": [
        "# 编译\n",
        "sgd = SGD(lr=0.01, decay=0.01 / 20, momentum=0.9, nesterov=True)\n",
        "model.compile(loss=\"categorical_crossentropy\", optimizer=sgd,metrics=[\"accuracy\"])"
      ],
      "execution_count": null,
      "outputs": [
        {
          "output_type": "stream",
          "name": "stderr",
          "text": [
            "/usr/local/lib/python3.7/dist-packages/keras/optimizer_v2/optimizer_v2.py:356: UserWarning: The `lr` argument is deprecated, use `learning_rate` instead.\n",
            "  \"The `lr` argument is deprecated, use `learning_rate` instead.\")\n"
          ]
        }
      ]
    },
    {
      "cell_type": "code",
      "metadata": {
        "id": "joPZr2pENISB",
        "colab": {
          "base_uri": "https://localhost:8080/"
        },
        "outputId": "be8726fd-1483-43dd-991a-ac0e9cead33b"
      },
      "source": [
        "# H = model.fit(x_train, y_train_oh, batch_size=32,\n",
        "#                         validation_data=(x_test, y_test_oh),\n",
        "#                         callbacks=[checkpoint],\n",
        "#                         epochs=20)\n",
        "\n",
        "H = model.fit_generator(aug00.flow(x_train, y_train_oh, batch_size=32),\n",
        "                        validation_data=(x_test, y_test_oh),\n",
        "                        callbacks=[checkpoint],\n",
        "                        steps_per_epoch=len(x_train) // 32,\n",
        "                        epochs=20)"
      ],
      "execution_count": null,
      "outputs": [
        {
          "output_type": "stream",
          "name": "stdout",
          "text": [
            "Epoch 1/20\n",
            "235/235 [==============================] - 76s 310ms/step - loss: 44.7736 - accuracy: 0.1215 - val_loss: 25.6737 - val_accuracy: 0.1873\n"
          ]
        },
        {
          "output_type": "stream",
          "name": "stderr",
          "text": [
            "/usr/local/lib/python3.7/dist-packages/keras/utils/generic_utils.py:497: CustomMaskWarning: Custom mask layers require a config and must override get_config. When loading, the custom mask layer must be passed to the custom_objects argument.\n",
            "  category=CustomMaskWarning)\n"
          ]
        },
        {
          "output_type": "stream",
          "name": "stdout",
          "text": [
            "Epoch 2/20\n",
            "235/235 [==============================] - 72s 307ms/step - loss: 27.9711 - accuracy: 0.1519 - val_loss: 26.2353 - val_accuracy: 0.1587\n",
            "Epoch 3/20\n",
            "235/235 [==============================] - 71s 303ms/step - loss: 18.4458 - accuracy: 0.1811 - val_loss: 11.3245 - val_accuracy: 0.2072\n",
            "Epoch 4/20\n",
            "235/235 [==============================] - 70s 299ms/step - loss: 15.7685 - accuracy: 0.1891 - val_loss: 15.2001 - val_accuracy: 0.1923\n",
            "Epoch 5/20\n",
            "235/235 [==============================] - 70s 299ms/step - loss: 11.8806 - accuracy: 0.2195 - val_loss: 18.0894 - val_accuracy: 0.2122\n",
            "Epoch 6/20\n",
            "235/235 [==============================] - 70s 298ms/step - loss: 10.1294 - accuracy: 0.2299 - val_loss: 12.3350 - val_accuracy: 0.2022\n",
            "Epoch 7/20\n",
            "235/235 [==============================] - 71s 304ms/step - loss: 7.7040 - accuracy: 0.2535 - val_loss: 9.1043 - val_accuracy: 0.2179\n",
            "Epoch 8/20\n",
            "235/235 [==============================] - 70s 300ms/step - loss: 7.1712 - accuracy: 0.2516 - val_loss: 10.0523 - val_accuracy: 0.1533\n",
            "Epoch 9/20\n",
            "235/235 [==============================] - 72s 307ms/step - loss: 6.2464 - accuracy: 0.2547 - val_loss: 9.1101 - val_accuracy: 0.1803\n",
            "Epoch 10/20\n",
            "235/235 [==============================] - 70s 299ms/step - loss: 6.1658 - accuracy: 0.2587 - val_loss: 6.0033 - val_accuracy: 0.1781\n",
            "Epoch 11/20\n",
            "235/235 [==============================] - 70s 300ms/step - loss: 4.7572 - accuracy: 0.2807 - val_loss: 8.6285 - val_accuracy: 0.2081\n",
            "Epoch 12/20\n",
            "235/235 [==============================] - 70s 299ms/step - loss: 4.5574 - accuracy: 0.2792 - val_loss: 6.8446 - val_accuracy: 0.1833\n",
            "Epoch 13/20\n",
            "235/235 [==============================] - 70s 299ms/step - loss: 4.3846 - accuracy: 0.2831 - val_loss: 6.0247 - val_accuracy: 0.2359\n",
            "Epoch 14/20\n",
            "235/235 [==============================] - 70s 299ms/step - loss: 3.7281 - accuracy: 0.2999 - val_loss: 2.8014 - val_accuracy: 0.2812\n",
            "Epoch 15/20\n",
            "235/235 [==============================] - 70s 300ms/step - loss: 3.5373 - accuracy: 0.2929 - val_loss: 5.2024 - val_accuracy: 0.2274\n",
            "Epoch 16/20\n",
            "235/235 [==============================] - 70s 300ms/step - loss: 3.8679 - accuracy: 0.2859 - val_loss: 4.4824 - val_accuracy: 0.2120\n",
            "Epoch 17/20\n",
            "235/235 [==============================] - 70s 300ms/step - loss: 3.1362 - accuracy: 0.3089 - val_loss: 3.4012 - val_accuracy: 0.2661\n",
            "Epoch 18/20\n",
            "235/235 [==============================] - 70s 300ms/step - loss: 2.9904 - accuracy: 0.3179 - val_loss: 4.2719 - val_accuracy: 0.2076\n",
            "Epoch 19/20\n",
            "235/235 [==============================] - 70s 298ms/step - loss: 2.7839 - accuracy: 0.3160 - val_loss: 3.1841 - val_accuracy: 0.2329\n",
            "Epoch 20/20\n",
            "235/235 [==============================] - 70s 299ms/step - loss: 2.5508 - accuracy: 0.3361 - val_loss: 3.7537 - val_accuracy: 0.2285\n"
          ]
        }
      ]
    },
    {
      "cell_type": "code",
      "metadata": {
        "id": "8blj1awzNChl",
        "colab": {
          "base_uri": "https://localhost:8080/",
          "height": 299
        },
        "outputId": "d79aebef-ee28-4add-9dd4-227d8e1412f5"
      },
      "source": [
        "# 绘制loss和accuracy曲线\n",
        "plt.style.use(\"ggplot\")\n",
        "plt.figure()\n",
        "plt.plot(np.arange(0, 20), H.history[\"loss\"], label=\"train_loss\")\n",
        "plt.plot(np.arange(0, 20), H.history[\"val_loss\"], label=\"val_loss\")\n",
        "plt.plot(np.arange(0, 20), H.history[\"accuracy\"], label=\"train_acc\")\n",
        "plt.plot(np.arange(0, 20), H.history[\"val_accuracy\"], label=\"val_acc\")\n",
        "plt.title(\"Training Loss and Accuracy\")\n",
        "plt.xlabel(\"Epoch #\")\n",
        "plt.ylabel(\"Loss/Accuracy\")\n",
        "plt.legend()\n",
        "plt.show()"
      ],
      "execution_count": null,
      "outputs": [
        {
          "output_type": "display_data",
          "data": {
            "image/png": "[encoded data removed]",
            "text/plain": [
              "<Figure size 432x288 with 1 Axes>"
            ]
          },
          "metadata": {}
        }
      ]
    },
    {
      "cell_type": "code",
      "metadata": {
        "id": "u7ribwqCNSZb",
        "colab": {
          "base_uri": "https://localhost:8080/"
        },
        "outputId": "d9ad4429-2bdc-4083-bdf2-41e3b881412f"
      },
      "source": [
        "# 分类评估报告\n",
        "preds = model.predict(x_test, batch_size=32)\n",
        "print(classification_report(y_test_oh.argmax(axis=1),preds.argmax(axis=1), digits=4))\n",
        "\n",
        "#  target_names=labelNames"
      ],
      "execution_count": null,
      "outputs": [
        {
          "output_type": "stream",
          "name": "stdout",
          "text": [
            "              precision    recall  f1-score   support\n",
            "\n",
            "           0     0.6009    0.1370    0.2231      1000\n",
            "           1     0.3590    0.5460    0.4332      1000\n",
            "           2     0.3205    0.0250    0.0464      1000\n",
            "           3     0.0000    0.0000    0.0000      1000\n",
            "           4     0.4242    0.0140    0.0271      1000\n",
            "           5     0.6154    0.0160    0.0312      1000\n",
            "           6     0.3636    0.0160    0.0307      1000\n",
            "           7     0.1436    0.9460    0.2494      1000\n",
            "           8     0.3885    0.5680    0.4614      1000\n",
            "           9     0.8095    0.0170    0.0333      1000\n",
            "\n",
            "    accuracy                         0.2285     10000\n",
            "   macro avg     0.4025    0.2285    0.1536     10000\n",
            "weighted avg     0.4025    0.2285    0.1536     10000\n",
            "\n"
          ]
        },
        {
          "output_type": "stream",
          "name": "stderr",
          "text": [
            "/usr/local/lib/python3.7/dist-packages/sklearn/metrics/_classification.py:1272: UndefinedMetricWarning: Precision and F-score are ill-defined and being set to 0.0 in labels with no predicted samples. Use `zero_division` parameter to control this behavior.\n",
            "  _warn_prf(average, modifier, msg_start, len(result))\n"
          ]
        }
      ]
    },
    {
      "cell_type": "code",
      "metadata": {
        "id": "Nqr6devkGgFq"
      },
      "source": [
        "import pandas as pd\n",
        "import sys\n",
        "import io"
      ],
      "execution_count": null,
      "outputs": []
    },
    {
      "cell_type": "code",
      "metadata": {
        "colab": {
          "base_uri": "https://localhost:8080/"
        },
        "id": "GgG-RliGIMJa",
        "outputId": "f21ab610-ddc3-4155-b07a-65784d8043e9"
      },
      "source": [
        "final_report = classification_report(y_test_oh.argmax(axis=1),preds.argmax(axis=1), digits=4)\n",
        "report_pd = pd.read_csv(io.StringIO(final_report), delim_whitespace=True, error_bad_lines=False)"
      ],
      "execution_count": null,
      "outputs": [
        {
          "output_type": "stream",
          "name": "stderr",
          "text": [
            "/usr/local/lib/python3.7/dist-packages/sklearn/metrics/_classification.py:1272: UndefinedMetricWarning: Precision and F-score are ill-defined and being set to 0.0 in labels with no predicted samples. Use `zero_division` parameter to control this behavior.\n",
            "  _warn_prf(average, modifier, msg_start, len(result))\n",
            "b'Skipping line 15: expected 5 fields, saw 6\\nSkipping line 16: expected 5 fields, saw 6\\n'\n"
          ]
        }
      ]
    },
    {
      "cell_type": "code",
      "metadata": {
        "colab": {
          "base_uri": "https://localhost:8080/"
        },
        "id": "0GZR9iF1IxUG",
        "outputId": "4ac63239-2319-4b25-d008-8c2bf6fc4d5a"
      },
      "source": [
        "report_re = report_pd[:10]\n",
        "report_re = report_re.reset_index()\n",
        "report_re = report_re[[\"index\", \"f1-score\"]]\n",
        "report_re.columns=['class_name','f1_score']\n",
        "\n",
        "report_re['1-f1_score'] = 1-report_re['f1_score']\n",
        "ds_sum = report_re['1-f1_score'].sum() \n",
        "report_re[\"class_weight\"] = report_re[\"1-f1_score\"]/ds_sum\n",
        "report_re[\"re_class_counts\"] = (report_re[\"1-f1_score\"]/ds_sum)*len(x_train)\n",
        "\n",
        "report_re[\"row_distribution\"] = pd.DataFrame(imbal_class_counts)\n",
        "report_re['tt'] = report_re['re_class_counts'] - report_re['row_distribution']\n",
        "report_re.loc[report_re[\"tt\"]<0,\"tt\"] = report_re[\"re_class_counts\"]\n",
        "\n",
        "report_re002 = report_re[[\"class_name\",\"class_weight\",\"re_class_counts\",\"row_distribution\",\"tt\"]]\n",
        "report_re002[\"tt\"] = round(report_re002[\"tt\"])\n",
        "report_re002.columns=['class_name',\"class_weight\",\"re_class_counts\",\"row_distribution\",\"update_num\"]"
      ],
      "execution_count": null,
      "outputs": [
        {
          "output_type": "stream",
          "name": "stderr",
          "text": [
            "/usr/local/lib/python3.7/dist-packages/ipykernel_launcher.py:16: SettingWithCopyWarning: \n",
            "A value is trying to be set on a copy of a slice from a DataFrame.\n",
            "Try using .loc[row_indexer,col_indexer] = value instead\n",
            "\n",
            "See the caveats in the documentation: https://pandas.pydata.org/pandas-docs/stable/user_guide/indexing.html#returning-a-view-versus-a-copy\n",
            "  app.launch_new_instance()\n"
          ]
        }
      ]
    },
    {
      "cell_type": "code",
      "metadata": {
        "colab": {
          "base_uri": "https://localhost:8080/",
          "height": 357
        },
        "id": "BwB0vWimKFZ9",
        "outputId": "00d78a55-3fa6-4ea2-bae1-f55f25a897ef"
      },
      "source": [
        "report_re002"
      ],
      "execution_count": null,
      "outputs": [
        {
          "output_type": "execute_result",
          "data": {
            "text/html": [
              "<div>\n",
              "<style scoped>\n",
              "    .dataframe tbody tr th:only-of-type {\n",
              "        vertical-align: middle;\n",
              "    }\n",
              "\n",
              "    .dataframe tbody tr th {\n",
              "        vertical-align: top;\n",
              "    }\n",
              "\n",
              "    .dataframe thead th {\n",
              "        text-align: right;\n",
              "    }\n",
              "</style>\n",
              "<table border=\"1\" class=\"dataframe\">\n",
              "  <thead>\n",
              "    <tr style=\"text-align: right;\">\n",
              "      <th></th>\n",
              "      <th>class_name</th>\n",
              "      <th>class_weight</th>\n",
              "      <th>re_class_counts</th>\n",
              "      <th>row_distribution</th>\n",
              "      <th>update_num</th>\n",
              "    </tr>\n",
              "  </thead>\n",
              "  <tbody>\n",
              "    <tr>\n",
              "      <th>0</th>\n",
              "      <td>0</td>\n",
              "      <td>0.091787</td>\n",
              "      <td>688.399376</td>\n",
              "      <td>500</td>\n",
              "      <td>188.0</td>\n",
              "    </tr>\n",
              "    <tr>\n",
              "      <th>1</th>\n",
              "      <td>1</td>\n",
              "      <td>0.066964</td>\n",
              "      <td>502.232934</td>\n",
              "      <td>1000</td>\n",
              "      <td>502.0</td>\n",
              "    </tr>\n",
              "    <tr>\n",
              "      <th>2</th>\n",
              "      <td>2</td>\n",
              "      <td>0.112663</td>\n",
              "      <td>844.970582</td>\n",
              "      <td>500</td>\n",
              "      <td>345.0</td>\n",
              "    </tr>\n",
              "    <tr>\n",
              "      <th>3</th>\n",
              "      <td>3</td>\n",
              "      <td>0.118145</td>\n",
              "      <td>886.084922</td>\n",
              "      <td>1000</td>\n",
              "      <td>886.0</td>\n",
              "    </tr>\n",
              "    <tr>\n",
              "      <th>4</th>\n",
              "      <td>4</td>\n",
              "      <td>0.114943</td>\n",
              "      <td>862.072021</td>\n",
              "      <td>500</td>\n",
              "      <td>362.0</td>\n",
              "    </tr>\n",
              "    <tr>\n",
              "      <th>5</th>\n",
              "      <td>5</td>\n",
              "      <td>0.114459</td>\n",
              "      <td>858.439073</td>\n",
              "      <td>1000</td>\n",
              "      <td>858.0</td>\n",
              "    </tr>\n",
              "    <tr>\n",
              "      <th>6</th>\n",
              "      <td>6</td>\n",
              "      <td>0.114518</td>\n",
              "      <td>858.882115</td>\n",
              "      <td>500</td>\n",
              "      <td>359.0</td>\n",
              "    </tr>\n",
              "    <tr>\n",
              "      <th>7</th>\n",
              "      <td>7</td>\n",
              "      <td>0.088679</td>\n",
              "      <td>665.095343</td>\n",
              "      <td>1000</td>\n",
              "      <td>665.0</td>\n",
              "    </tr>\n",
              "    <tr>\n",
              "      <th>8</th>\n",
              "      <td>8</td>\n",
              "      <td>0.063633</td>\n",
              "      <td>477.245339</td>\n",
              "      <td>500</td>\n",
              "      <td>477.0</td>\n",
              "    </tr>\n",
              "    <tr>\n",
              "      <th>9</th>\n",
              "      <td>9</td>\n",
              "      <td>0.114210</td>\n",
              "      <td>856.578294</td>\n",
              "      <td>1000</td>\n",
              "      <td>857.0</td>\n",
              "    </tr>\n",
              "  </tbody>\n",
              "</table>\n",
              "</div>"
            ],
            "text/plain": [
              "  class_name  class_weight  re_class_counts  row_distribution  update_num\n",
              "0          0      0.091787       688.399376               500       188.0\n",
              "1          1      0.066964       502.232934              1000       502.0\n",
              "2          2      0.112663       844.970582               500       345.0\n",
              "3          3      0.118145       886.084922              1000       886.0\n",
              "4          4      0.114943       862.072021               500       362.0\n",
              "5          5      0.114459       858.439073              1000       858.0\n",
              "6          6      0.114518       858.882115               500       359.0\n",
              "7          7      0.088679       665.095343              1000       665.0\n",
              "8          8      0.063633       477.245339               500       477.0\n",
              "9          9      0.114210       856.578294              1000       857.0"
            ]
          },
          "metadata": {},
          "execution_count": 52
        }
      ]
    },
    {
      "cell_type": "code",
      "metadata": {
        "id": "LOJEawWSOIBw"
      },
      "source": [
        "from keras.preprocessing.image import ImageDataGenerator\n",
        "from keras.preprocessing.image import img_to_array\n",
        "from keras.preprocessing.image import load_img\n",
        "import numpy as np\n",
        "import random"
      ],
      "execution_count": null,
      "outputs": []
    },
    {
      "cell_type": "code",
      "metadata": {
        "colab": {
          "base_uri": "https://localhost:8080/"
        },
        "id": "OPOD3RgpeDJS",
        "outputId": "79c0d7a1-5dcd-476e-dbc4-65641fc48b6a"
      },
      "source": [
        "# choose images whose label is i\n",
        "class_indices_0 = [np.where(y_train == 0)[0]]\n",
        "x_train_0 = x_train[class_indices_0]\n",
        "\n",
        "class_indices_1 = [np.where(y_train == 1)[0]]\n",
        "x_train_1 = x_train[class_indices_1]\n",
        "\n",
        "class_indices_2 = [np.where(y_train == 2)[0]]\n",
        "x_train_2 = x_train[class_indices_2]\n",
        "\n",
        "class_indices_3 = [np.where(y_train == 3)[0]]\n",
        "x_train_3 = x_train[class_indices_3]\n",
        "\n",
        "class_indices_4 = [np.where(y_train == 4)[0]]\n",
        "x_train_4 = x_train[class_indices_4]\n",
        "\n",
        "class_indices_5 = [np.where(y_train == 5)[0]]\n",
        "x_train_5 = x_train[class_indices_5]\n",
        "\n",
        "class_indices_6 = [np.where(y_train == 6)[0]]\n",
        "x_train_6 = x_train[class_indices_6]\n",
        "\n",
        "class_indices_7 = [np.where(y_train == 7)[0]]\n",
        "x_train_7 = x_train[class_indices_7]\n",
        "\n",
        "class_indices_8 = [np.where(y_train == 8)[0]]\n",
        "x_train_8 = x_train[class_indices_8]\n",
        "\n",
        "class_indices_9 = [np.where(y_train == 9)[0]]\n",
        "x_train_9 = x_train[class_indices_9]"
      ],
      "execution_count": null,
      "outputs": [
        {
          "output_type": "stream",
          "name": "stderr",
          "text": [
            "/usr/local/lib/python3.7/dist-packages/ipykernel_launcher.py:3: FutureWarning: Using a non-tuple sequence for multidimensional indexing is deprecated; use `arr[tuple(seq)]` instead of `arr[seq]`. In the future this will be interpreted as an array index, `arr[np.array(seq)]`, which will result either in an error or a different result.\n",
            "  This is separate from the ipykernel package so we can avoid doing imports until\n",
            "/usr/local/lib/python3.7/dist-packages/ipykernel_launcher.py:6: FutureWarning: Using a non-tuple sequence for multidimensional indexing is deprecated; use `arr[tuple(seq)]` instead of `arr[seq]`. In the future this will be interpreted as an array index, `arr[np.array(seq)]`, which will result either in an error or a different result.\n",
            "  \n",
            "/usr/local/lib/python3.7/dist-packages/ipykernel_launcher.py:9: FutureWarning: Using a non-tuple sequence for multidimensional indexing is deprecated; use `arr[tuple(seq)]` instead of `arr[seq]`. In the future this will be interpreted as an array index, `arr[np.array(seq)]`, which will result either in an error or a different result.\n",
            "  if __name__ == '__main__':\n",
            "/usr/local/lib/python3.7/dist-packages/ipykernel_launcher.py:12: FutureWarning: Using a non-tuple sequence for multidimensional indexing is deprecated; use `arr[tuple(seq)]` instead of `arr[seq]`. In the future this will be interpreted as an array index, `arr[np.array(seq)]`, which will result either in an error or a different result.\n",
            "  if sys.path[0] == '':\n",
            "/usr/local/lib/python3.7/dist-packages/ipykernel_launcher.py:15: FutureWarning: Using a non-tuple sequence for multidimensional indexing is deprecated; use `arr[tuple(seq)]` instead of `arr[seq]`. In the future this will be interpreted as an array index, `arr[np.array(seq)]`, which will result either in an error or a different result.\n",
            "  from ipykernel import kernelapp as app\n",
            "/usr/local/lib/python3.7/dist-packages/ipykernel_launcher.py:18: FutureWarning: Using a non-tuple sequence for multidimensional indexing is deprecated; use `arr[tuple(seq)]` instead of `arr[seq]`. In the future this will be interpreted as an array index, `arr[np.array(seq)]`, which will result either in an error or a different result.\n",
            "/usr/local/lib/python3.7/dist-packages/ipykernel_launcher.py:21: FutureWarning: Using a non-tuple sequence for multidimensional indexing is deprecated; use `arr[tuple(seq)]` instead of `arr[seq]`. In the future this will be interpreted as an array index, `arr[np.array(seq)]`, which will result either in an error or a different result.\n",
            "/usr/local/lib/python3.7/dist-packages/ipykernel_launcher.py:24: FutureWarning: Using a non-tuple sequence for multidimensional indexing is deprecated; use `arr[tuple(seq)]` instead of `arr[seq]`. In the future this will be interpreted as an array index, `arr[np.array(seq)]`, which will result either in an error or a different result.\n",
            "/usr/local/lib/python3.7/dist-packages/ipykernel_launcher.py:27: FutureWarning: Using a non-tuple sequence for multidimensional indexing is deprecated; use `arr[tuple(seq)]` instead of `arr[seq]`. In the future this will be interpreted as an array index, `arr[np.array(seq)]`, which will result either in an error or a different result.\n",
            "/usr/local/lib/python3.7/dist-packages/ipykernel_launcher.py:30: FutureWarning: Using a non-tuple sequence for multidimensional indexing is deprecated; use `arr[tuple(seq)]` instead of `arr[seq]`. In the future this will be interpreted as an array index, `arr[np.array(seq)]`, which will result either in an error or a different result.\n"
          ]
        }
      ]
    },
    {
      "cell_type": "code",
      "metadata": {
        "colab": {
          "base_uri": "https://localhost:8080/",
          "height": 357
        },
        "id": "zn54MdwoU9OK",
        "outputId": "b4676462-2a93-4c53-b1f3-34138a6ab65d"
      },
      "source": [
        "report_re002"
      ],
      "execution_count": null,
      "outputs": [
        {
          "output_type": "execute_result",
          "data": {
            "text/html": [
              "<div>\n",
              "<style scoped>\n",
              "    .dataframe tbody tr th:only-of-type {\n",
              "        vertical-align: middle;\n",
              "    }\n",
              "\n",
              "    .dataframe tbody tr th {\n",
              "        vertical-align: top;\n",
              "    }\n",
              "\n",
              "    .dataframe thead th {\n",
              "        text-align: right;\n",
              "    }\n",
              "</style>\n",
              "<table border=\"1\" class=\"dataframe\">\n",
              "  <thead>\n",
              "    <tr style=\"text-align: right;\">\n",
              "      <th></th>\n",
              "      <th>class_name</th>\n",
              "      <th>class_weight</th>\n",
              "      <th>re_class_counts</th>\n",
              "      <th>row_distribution</th>\n",
              "      <th>update_num</th>\n",
              "    </tr>\n",
              "  </thead>\n",
              "  <tbody>\n",
              "    <tr>\n",
              "      <th>0</th>\n",
              "      <td>0</td>\n",
              "      <td>0.091787</td>\n",
              "      <td>688.399376</td>\n",
              "      <td>500</td>\n",
              "      <td>188.0</td>\n",
              "    </tr>\n",
              "    <tr>\n",
              "      <th>1</th>\n",
              "      <td>1</td>\n",
              "      <td>0.066964</td>\n",
              "      <td>502.232934</td>\n",
              "      <td>1000</td>\n",
              "      <td>502.0</td>\n",
              "    </tr>\n",
              "    <tr>\n",
              "      <th>2</th>\n",
              "      <td>2</td>\n",
              "      <td>0.112663</td>\n",
              "      <td>844.970582</td>\n",
              "      <td>500</td>\n",
              "      <td>345.0</td>\n",
              "    </tr>\n",
              "    <tr>\n",
              "      <th>3</th>\n",
              "      <td>3</td>\n",
              "      <td>0.118145</td>\n",
              "      <td>886.084922</td>\n",
              "      <td>1000</td>\n",
              "      <td>886.0</td>\n",
              "    </tr>\n",
              "    <tr>\n",
              "      <th>4</th>\n",
              "      <td>4</td>\n",
              "      <td>0.114943</td>\n",
              "      <td>862.072021</td>\n",
              "      <td>500</td>\n",
              "      <td>362.0</td>\n",
              "    </tr>\n",
              "    <tr>\n",
              "      <th>5</th>\n",
              "      <td>5</td>\n",
              "      <td>0.114459</td>\n",
              "      <td>858.439073</td>\n",
              "      <td>1000</td>\n",
              "      <td>858.0</td>\n",
              "    </tr>\n",
              "    <tr>\n",
              "      <th>6</th>\n",
              "      <td>6</td>\n",
              "      <td>0.114518</td>\n",
              "      <td>858.882115</td>\n",
              "      <td>500</td>\n",
              "      <td>359.0</td>\n",
              "    </tr>\n",
              "    <tr>\n",
              "      <th>7</th>\n",
              "      <td>7</td>\n",
              "      <td>0.088679</td>\n",
              "      <td>665.095343</td>\n",
              "      <td>1000</td>\n",
              "      <td>665.0</td>\n",
              "    </tr>\n",
              "    <tr>\n",
              "      <th>8</th>\n",
              "      <td>8</td>\n",
              "      <td>0.063633</td>\n",
              "      <td>477.245339</td>\n",
              "      <td>500</td>\n",
              "      <td>477.0</td>\n",
              "    </tr>\n",
              "    <tr>\n",
              "      <th>9</th>\n",
              "      <td>9</td>\n",
              "      <td>0.114210</td>\n",
              "      <td>856.578294</td>\n",
              "      <td>1000</td>\n",
              "      <td>857.0</td>\n",
              "    </tr>\n",
              "  </tbody>\n",
              "</table>\n",
              "</div>"
            ],
            "text/plain": [
              "  class_name  class_weight  re_class_counts  row_distribution  update_num\n",
              "0          0      0.091787       688.399376               500       188.0\n",
              "1          1      0.066964       502.232934              1000       502.0\n",
              "2          2      0.112663       844.970582               500       345.0\n",
              "3          3      0.118145       886.084922              1000       886.0\n",
              "4          4      0.114943       862.072021               500       362.0\n",
              "5          5      0.114459       858.439073              1000       858.0\n",
              "6          6      0.114518       858.882115               500       359.0\n",
              "7          7      0.088679       665.095343              1000       665.0\n",
              "8          8      0.063633       477.245339               500       477.0\n",
              "9          9      0.114210       856.578294              1000       857.0"
            ]
          },
          "metadata": {},
          "execution_count": 57
        }
      ]
    },
    {
      "cell_type": "code",
      "metadata": {
        "colab": {
          "base_uri": "https://localhost:8080/"
        },
        "id": "wmoq-oo72MsU",
        "outputId": "678f1ea8-cbda-4023-eb9c-18fd5c7902c2"
      },
      "source": [
        "report_re002['re_class_counts'].sum()"
      ],
      "execution_count": null,
      "outputs": [
        {
          "output_type": "execute_result",
          "data": {
            "text/plain": [
              "7500.0"
            ]
          },
          "metadata": {},
          "execution_count": 162
        }
      ]
    },
    {
      "cell_type": "code",
      "metadata": {
        "id": "lYTab5bShIBx"
      },
      "source": [
        "def data_augmentation(img, number):\n",
        "  image = np.expand_dims(img, axis=0)\n",
        "  # 实例化图像生成器类，指定一些常用的图片增广参数\n",
        "  aug = ImageDataGenerator(rotation_range=30,\n",
        "                width_shift_range=0.1,\n",
        "                height_shift_range=0.1, \n",
        "                shear_range=0.2, \n",
        "                zoom_range=0.2,\n",
        "                horizontal_flip=True,\n",
        "                fill_mode=\"nearest\")\n",
        "    \n",
        "  imageGen = aug.flow(image, batch_size=1)\n",
        "  # aug.flow??\n",
        "\n",
        "  total = 0\n",
        "  imglist = []\n",
        "  for x in imageGen:\n",
        "    total += 1\n",
        "    imglist.append(x)\n",
        "    if total == number:\n",
        "      break\n",
        "\n",
        "  # imgback = np.array(imglist)\n",
        "  return imglist"
      ],
      "execution_count": null,
      "outputs": []
    },
    {
      "cell_type": "code",
      "metadata": {
        "id": "fLfzGh4aboh1"
      },
      "source": [
        "def img_add(x_train_i, num):\n",
        "  img_list = []\n",
        "  for image in x_train_i:\n",
        "    img_list_i = data_augmentation(image, 20)\n",
        "    img_list.extend(img_list_i)\n",
        "  \n",
        "  imgback = random.sample(img_list, num)\n",
        "  imgback = np.array(imgback)\n",
        "  final_x_train_i = np.vstack((x_train_i,imgback.squeeze()))\n",
        "  return final_x_train_i\n"
      ],
      "execution_count": null,
      "outputs": []
    },
    {
      "cell_type": "code",
      "metadata": {
        "id": "V20pXR1iqDf7"
      },
      "source": [
        "ds_change_0 = img_add(x_train_0, 188)\n",
        "ds_change_1 = np.array(random.sample(list(x_train_1), 502))\n",
        "ds_change_2 = img_add(x_train_2, 345)\n",
        "ds_change_3 = np.array(random.sample(list(x_train_3), 886))\n",
        "ds_change_4 = img_add(x_train_4, 362)\n",
        "ds_change_5 = np.array(random.sample(list(x_train_5), 858))\n",
        "ds_change_6 = img_add(x_train_6, 359)\n",
        "ds_change_7 = np.array(random.sample(list(x_train_7), 665))\n",
        "ds_change_8 = np.array(random.sample(list(x_train_8), 477))\n",
        "ds_change_9 = np.array(random.sample(list(x_train_9), 857))"
      ],
      "execution_count": null,
      "outputs": []
    },
    {
      "cell_type": "code",
      "metadata": {
        "id": "R1fJXkTfpql5"
      },
      "source": [
        "x_train_new = np.vstack((ds_change_0,ds_change_1))\n",
        "x_train_new = np.vstack((x_train_new,ds_change_2))\n",
        "x_train_new = np.vstack((x_train_new,ds_change_3))\n",
        "x_train_new = np.vstack((x_train_new,ds_change_4))\n",
        "x_train_new = np.vstack((x_train_new,ds_change_5))\n",
        "x_train_new = np.vstack((x_train_new,ds_change_6))\n",
        "x_train_new = np.vstack((x_train_new,ds_change_7))\n",
        "x_train_new = np.vstack((x_train_new,ds_change_8))\n",
        "x_train_new = np.vstack((x_train_new,ds_change_9))\n",
        "\n",
        "# plt.imshow(x_train_new[5])\n",
        "# plt.show()\n",
        "\n",
        "# len(x_train_new)"
      ],
      "execution_count": null,
      "outputs": []
    },
    {
      "cell_type": "code",
      "metadata": {
        "id": "yGbAjIW05rNH"
      },
      "source": [
        "def new_array(row,nmb):\n",
        "  new_arr = np.zeros((row,1))\n",
        "  for i in range(row):\n",
        "    new_arr[i] = np.array([nmb])\n",
        "  return new_arr\n",
        "\n",
        "def change_y(update0,update1,update2,update3,update4,update5,update6,update7,update8,update9):\n",
        "  y0 = new_array(update0,0)\n",
        "  y1 = new_array(update1,1)\n",
        "  y2 = new_array(update2,2)\n",
        "  y3 = new_array(update3,3)\n",
        "  y4 = new_array(update4,4)\n",
        "  y5 = new_array(update5,5)\n",
        "  y6 = new_array(update6,6)\n",
        "  y7 = new_array(update7,7)\n",
        "  y8 = new_array(update8,8)\n",
        "  y9 = new_array(update9,9)\n",
        "\n",
        "  y_train_new = np.vstack((y0,y1))\n",
        "  y_train_new = np.vstack((y_train_new,y2))\n",
        "  y_train_new = np.vstack((y_train_new,y3))\n",
        "  y_train_new = np.vstack((y_train_new,y4))\n",
        "  y_train_new = np.vstack((y_train_new,y5))\n",
        "  y_train_new = np.vstack((y_train_new,y6))\n",
        "  y_train_new = np.vstack((y_train_new,y7))\n",
        "  y_train_new = np.vstack((y_train_new,y8))\n",
        "  y_train_new = np.vstack((y_train_new,y9))\n",
        "  \n",
        "  y_train_new_oh = to_categorical(y_train_new)\n",
        "\n",
        "  return y_train_new_oh"
      ],
      "execution_count": null,
      "outputs": []
    },
    {
      "cell_type": "code",
      "metadata": {
        "id": "9ob03RZ8f_57"
      },
      "source": [
        "y_train_new_oh = change_y(688,502,845,886,862,858,859,665,477,857)"
      ],
      "execution_count": null,
      "outputs": []
    },
    {
      "cell_type": "code",
      "metadata": {
        "colab": {
          "base_uri": "https://localhost:8080/"
        },
        "id": "cN6I3yiQ-eEK",
        "outputId": "b9f2deb6-a235-4110-f335-8239f9010f6b"
      },
      "source": [
        "len(y_train_new_oh)"
      ],
      "execution_count": null,
      "outputs": [
        {
          "output_type": "execute_result",
          "data": {
            "text/plain": [
              "7499"
            ]
          },
          "metadata": {},
          "execution_count": 193
        }
      ]
    },
    {
      "cell_type": "code",
      "metadata": {
        "id": "VoDzlyyMNScd"
      },
      "source": [
        "# 允许baseModel所有层的参数都可学习\n",
        "for layer in baseModel.layers:\n",
        "    layer.trainable = True"
      ],
      "execution_count": null,
      "outputs": []
    },
    {
      "cell_type": "code",
      "metadata": {
        "id": "yK855vbXNSfE"
      },
      "source": [
        "# 保存模型快照的回调函数\n",
        "modelname = \"final_cifar10-resnet50-weights-{epoch:03d}-{val_loss:.4f}.hdf5\"\n",
        "checkpoint = ModelCheckpoint(modelname, monitor=\"val_loss\", mode=\"min\", save_best_only=True)"
      ],
      "execution_count": null,
      "outputs": []
    },
    {
      "cell_type": "code",
      "metadata": {
        "id": "W2RLTapINSh7",
        "colab": {
          "base_uri": "https://localhost:8080/"
        },
        "outputId": "f2b82d47-4e9d-4db7-dbc3-fac313e7e052"
      },
      "source": [
        "# 编译\n",
        "sgd = SGD(lr=0.001, decay=0.001 / 20, momentum=0.9, nesterov=True)\n",
        "model.compile(loss=\"categorical_crossentropy\", optimizer=sgd,metrics=[\"accuracy\"])"
      ],
      "execution_count": null,
      "outputs": [
        {
          "output_type": "stream",
          "name": "stderr",
          "text": [
            "/usr/local/lib/python3.7/dist-packages/keras/optimizer_v2/optimizer_v2.py:356: UserWarning: The `lr` argument is deprecated, use `learning_rate` instead.\n",
            "  \"The `lr` argument is deprecated, use `learning_rate` instead.\")\n"
          ]
        }
      ]
    },
    {
      "cell_type": "code",
      "metadata": {
        "id": "biEXOASvNSkj"
      },
      "source": [
        "H = model.fit_generator(aug00.flow(x_train_new, y_train_new_oh, batch_size=32),\n",
        "                        validation_data=(x_test, y_test_oh),\n",
        "                        callbacks=[checkpoint],\n",
        "                        steps_per_epoch=len(x_train) // 32,\n",
        "                        epochs=20)\n",
        "\n",
        "# H = model.fit(x_train_new, y_train_new_oh, batch_size=32,\n",
        "#                         validation_data=(x_test, y_test_oh),\n",
        "#                         callbacks=[checkpoint],\n",
        "#                         epochs=20)"
      ],
      "execution_count": null,
      "outputs": []
    },
    {
      "cell_type": "code",
      "metadata": {
        "id": "JuXd_CYoNvMH"
      },
      "source": [
        "\n",
        "# 绘制loss和accuracy曲线\n",
        "plt.style.use(\"ggplot\")\n",
        "plt.figure()\n",
        "plt.plot(np.arange(0, 20), H.history[\"loss\"], label=\"train_loss\")\n",
        "plt.plot(np.arange(0, 20), H.history[\"val_loss\"], label=\"val_loss\")\n",
        "plt.plot(np.arange(0, 20), H.history[\"accuracy\"], label=\"train_acc\")\n",
        "plt.plot(np.arange(0, 20), H.history[\"val_accuracy\"], label=\"val_acc\")\n",
        "plt.title(\"Training Loss and Accuracy\")\n",
        "plt.xlabel(\"Epoch #\")\n",
        "plt.ylabel(\"Loss/Accuracy\")\n",
        "plt.legend()\n",
        "plt.show()"
      ],
      "execution_count": null,
      "outputs": []
    },
    {
      "cell_type": "code",
      "metadata": {
        "id": "A1grp-nqNvO6"
      },
      "source": [
        "# 分类评估报告\n",
        "preds = model.predict(x_test, batch_size=32)\n",
        "print(classification_report(y_test_oh.argmax(axis=1),preds.argmax(axis=1), digits=4))"
      ],
      "execution_count": null,
      "outputs": []
    },
    {
      "cell_type": "code",
      "metadata": {
        "id": "xJqDT8tpNvRx"
      },
      "source": [
        ""
      ],
      "execution_count": null,
      "outputs": []
    }
  ]
}