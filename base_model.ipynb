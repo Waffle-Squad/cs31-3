{
  "nbformat": 4,
  "nbformat_minor": 0,
  "metadata": {
    "colab": {
      "name": "Base_CNN_V2_0.ipynb",
      "provenance": []
    },
    "kernelspec": {
      "name": "python3",
      "display_name": "Python 3"
    },
    "language_info": {
      "name": "python"
    },
    "accelerator": "GPU"
  },
  "cells": [
    {
      "cell_type": "code",
      "metadata": {
        "id": "6ee6YZrJVCId"
      },
      "source": [
        "# keras packages\n",
        "from tensorflow.keras.applications import ResNet50\n",
        "from keras.layers import Flatten\n",
        "from keras.layers import Dense\n",
        "from keras.layers import Input\n",
        "from keras.models import Model\n",
        "from tensorflow.keras.optimizers import SGD\n",
        "from keras.preprocessing.image import ImageDataGenerator\n",
        "from keras.callbacks import ModelCheckpoint\n",
        "from keras.preprocessing.image import load_img\n",
        "from keras.preprocessing.image import img_to_array\n",
        "from keras.utils.np_utils import to_categorical\n",
        "from keras.preprocessing.image import ImageDataGenerator\n",
        "from keras.preprocessing.image import img_to_array\n",
        "from keras.preprocessing.image import load_img\n",
        "from keras.datasets import cifar10\n",
        "from keras.utils import np_utils\n",
        "from keras.models import Sequential\n",
        "from keras.layers import Dense,Conv2D,MaxPooling2D,Dropout,Flatten,BatchNormalization\n",
        "\n",
        "\n",
        "# sklearn packages\n",
        "from sklearn.metrics import classification_report\n",
        "from sklearn.preprocessing import LabelBinarizer\n",
        "from sklearn.feature_extraction.image import extract_patches_2d\n",
        "from sklearn.model_selection import train_test_split\n",
        "\n",
        "import random\n",
        "import numpy as np\n",
        "import cv2\n",
        "import os\n",
        "from imutils import paths\n",
        "import progressbar\n",
        "\n",
        "# drawing packages\n",
        "import matplotlib.pyplot as plt\n",
        "%matplotlib inline\n",
        "\n",
        "#basic tool\n",
        "import pandas as pd\n",
        "import sys\n",
        "import io"
      ],
      "execution_count": null,
      "outputs": []
    },
    {
      "cell_type": "code",
      "metadata": {
        "colab": {
          "base_uri": "https://localhost:8080/"
        },
        "id": "2FMdIUV5YTcg",
        "outputId": "767f7d80-232e-48c4-d3c7-29bc0e1421f6"
      },
      "source": [
        "from google.colab import drive\n",
        "drive.mount('/content/drive')"
      ],
      "execution_count": null,
      "outputs": [
        {
          "output_type": "stream",
          "name": "stdout",
          "text": [
            "Mounted at /content/drive\n"
          ]
        }
      ]
    },
    {
      "cell_type": "markdown",
      "metadata": {
        "id": "sG-igqR0DBbo"
      },
      "source": [
        "## Data Preprocessing"
      ]
    },
    {
      "cell_type": "code",
      "metadata": {
        "id": "i1wBSDooZS2H"
      },
      "source": [
        "np.random.seed(161)\n",
        "\n",
        "#load dataset\n",
        "(x_train, y_train), (x_test, y_test) = cifar10.load_data()\n",
        "\n",
        "#normalized\n",
        "x_train = x_train / 255.0\n",
        "x_test = x_test / 255.0\n",
        "\n",
        "#divide training set,validation set,test set\n",
        "x_train, x_val, y_train, y_val = train_test_split(x_train, y_train, test_size = 0.20, random_state = 31)"
      ],
      "execution_count": null,
      "outputs": []
    },
    {
      "cell_type": "code",
      "metadata": {
        "id": "oKLjFyy6YThx"
      },
      "source": [
        "#construct a non-equilibrium sample\n",
        "def imbalanceData(__format,X_train,y_train):\n",
        "   \"\"\"\n",
        "   __format：The imbalance want to input\n",
        "   X_train:Train Set -X\n",
        "   y_train:Train Set -Y\n",
        "   \"\"\"\n",
        "   train_classes, train_class_counts=np.unique(y_train, return_counts=True)\n",
        "   nb_train_classes = len(train_classes)\n",
        "   class_indices = [np.where(y_train == i)[0] for i in range(nb_train_classes)]\n",
        "   imbal_class_indices = [class_idx[:class_count] for class_idx, class_count in zip(class_indices, __format)]\n",
        "   imbal_class_indices = np.hstack(imbal_class_indices)\n",
        "   y = y_train[imbal_class_indices]\n",
        "   X = x_train[imbal_class_indices]  \n",
        "   return X,y"
      ],
      "execution_count": null,
      "outputs": []
    },
    {
      "cell_type": "code",
      "metadata": {
        "id": "eLH7fVA4YTkx"
      },
      "source": [
        "imbal_class_counts=[250,750,1250,1750,2250,2750,3250,3750,4250,5000]\n",
        "imbal_class_counts=[int(i * 4/5) for i in imbal_class_counts]\n",
        "x_train,y_train=imbalanceData(imbal_class_counts,x_train,y_train)"
      ],
      "execution_count": null,
      "outputs": []
    },
    {
      "cell_type": "code",
      "metadata": {
        "id": "qRDRptn-YTnb"
      },
      "source": [
        "# Y-one hot\n",
        "y_train_oh = to_categorical(y_train)\n",
        "y_val_oh = to_categorical(y_val)\n",
        "y_test_oh = to_categorical(y_test)"
      ],
      "execution_count": null,
      "outputs": []
    },
    {
      "cell_type": "markdown",
      "metadata": {
        "id": "oK8oFz6FDhDb"
      },
      "source": [
        "## Model Building"
      ]
    },
    {
      "cell_type": "code",
      "metadata": {
        "colab": {
          "base_uri": "https://localhost:8080/"
        },
        "id": "2upiXcmhYTqC",
        "outputId": "6f13615a-bd72-475a-9d1e-d917b3cbbbe6"
      },
      "source": [
        "#define the model\n",
        "model=Sequential()\n",
        "\n",
        "model.add(Conv2D(32,(3,3),padding='same',input_shape=x_train.shape[1:],activation='relu'))\n",
        "model.add(Conv2D(32,(3,3),padding='same',input_shape=(32,32,3),activation='relu'))\n",
        "model.add(MaxPooling2D(pool_size=(2,2)))\n",
        "model.add(Dropout(0.25))\n",
        "\n",
        "model.add(Conv2D(64,(3,3),padding='same',input_shape=(32,32,3),activation='relu'))\n",
        "model.add(Conv2D(64,(3,3),padding='same',input_shape=(32,32,3),activation='relu'))\n",
        "model.add(MaxPooling2D(pool_size=(2,2)))\n",
        "\n",
        "model.add(Flatten())\n",
        "model.add(Dense(512,activation='relu'))\n",
        "model.add(Dropout(0.5))\n",
        "model.add(Dense(10,activation='softmax'))\n",
        "\n",
        "model.compile(loss='categorical_crossentropy',optimizer='sgd',metrics=['accuracy'])\n",
        "\n",
        "model.summary()"
      ],
      "execution_count": null,
      "outputs": [
        {
          "output_type": "stream",
          "name": "stdout",
          "text": [
            "Model: \"sequential_1\"\n",
            "_________________________________________________________________\n",
            " Layer (type)                Output Shape              Param #   \n",
            "=================================================================\n",
            " conv2d_4 (Conv2D)           (None, 32, 32, 32)        896       \n",
            "                                                                 \n",
            " conv2d_5 (Conv2D)           (None, 32, 32, 32)        9248      \n",
            "                                                                 \n",
            " max_pooling2d_2 (MaxPooling  (None, 16, 16, 32)       0         \n",
            " 2D)                                                             \n",
            "                                                                 \n",
            " dropout_2 (Dropout)         (None, 16, 16, 32)        0         \n",
            "                                                                 \n",
            " conv2d_6 (Conv2D)           (None, 16, 16, 64)        18496     \n",
            "                                                                 \n",
            " conv2d_7 (Conv2D)           (None, 16, 16, 64)        36928     \n",
            "                                                                 \n",
            " max_pooling2d_3 (MaxPooling  (None, 8, 8, 64)         0         \n",
            " 2D)                                                             \n",
            "                                                                 \n",
            " flatten_1 (Flatten)         (None, 4096)              0         \n",
            "                                                                 \n",
            " dense_2 (Dense)             (None, 512)               2097664   \n",
            "                                                                 \n",
            " dropout_3 (Dropout)         (None, 512)               0         \n",
            "                                                                 \n",
            " dense_3 (Dense)             (None, 10)                5130      \n",
            "                                                                 \n",
            "=================================================================\n",
            "Total params: 2,168,362\n",
            "Trainable params: 2,168,362\n",
            "Non-trainable params: 0\n",
            "_________________________________________________________________\n"
          ]
        }
      ]
    },
    {
      "cell_type": "code",
      "metadata": {
        "colab": {
          "base_uri": "https://localhost:8080/"
        },
        "id": "QRYqPCj45d0M",
        "outputId": "9b016835-8f68-4417-b77f-b1841f01542d"
      },
      "source": [
        "#train the model\n",
        "print('-----------Training-----------')\n",
        "model.fit(x_train,y_train_oh,batch_size=32,epochs=50,verbose=2)\n",
        "\n",
        "#evaluate the model\n",
        "print('-----------Testing-------------')\n",
        "scores=model.evaluate(x_val,y_val_oh,verbose=0)\n",
        "print('loss:%s,accuracy:%s' % (scores[0],scores[1]))\n",
        "\n",
        "#save the model\n",
        "# model.save('cifar10_cnn_model.h5')"
      ],
      "execution_count": null,
      "outputs": [
        {
          "output_type": "stream",
          "name": "stdout",
          "text": [
            "-----------Training-----------\n",
            "Epoch 1/50\n",
            "632/632 - 7s - loss: 1.9532 - accuracy: 0.2956 - 7s/epoch - 11ms/step\n",
            "Epoch 2/50\n",
            "632/632 - 6s - loss: 1.6911 - accuracy: 0.4220 - 6s/epoch - 10ms/step\n",
            "Epoch 3/50\n",
            "632/632 - 6s - loss: 1.5702 - accuracy: 0.4626 - 6s/epoch - 10ms/step\n",
            "Epoch 4/50\n",
            "632/632 - 6s - loss: 1.4727 - accuracy: 0.4965 - 6s/epoch - 10ms/step\n",
            "Epoch 5/50\n",
            "632/632 - 6s - loss: 1.3939 - accuracy: 0.5243 - 6s/epoch - 10ms/step\n",
            "Epoch 6/50\n",
            "632/632 - 6s - loss: 1.3331 - accuracy: 0.5445 - 6s/epoch - 10ms/step\n",
            "Epoch 7/50\n",
            "632/632 - 6s - loss: 1.2849 - accuracy: 0.5602 - 6s/epoch - 10ms/step\n",
            "Epoch 8/50\n",
            "632/632 - 6s - loss: 1.2306 - accuracy: 0.5765 - 6s/epoch - 10ms/step\n",
            "Epoch 9/50\n",
            "632/632 - 6s - loss: 1.1860 - accuracy: 0.5890 - 6s/epoch - 10ms/step\n",
            "Epoch 10/50\n",
            "632/632 - 6s - loss: 1.1408 - accuracy: 0.6069 - 6s/epoch - 10ms/step\n",
            "Epoch 11/50\n",
            "632/632 - 6s - loss: 1.0980 - accuracy: 0.6178 - 6s/epoch - 10ms/step\n",
            "Epoch 12/50\n",
            "632/632 - 6s - loss: 1.0645 - accuracy: 0.6295 - 6s/epoch - 10ms/step\n",
            "Epoch 13/50\n",
            "632/632 - 6s - loss: 1.0288 - accuracy: 0.6448 - 6s/epoch - 10ms/step\n",
            "Epoch 14/50\n",
            "632/632 - 6s - loss: 0.9951 - accuracy: 0.6567 - 6s/epoch - 10ms/step\n",
            "Epoch 15/50\n",
            "632/632 - 6s - loss: 0.9655 - accuracy: 0.6652 - 6s/epoch - 10ms/step\n",
            "Epoch 16/50\n",
            "632/632 - 6s - loss: 0.9338 - accuracy: 0.6767 - 6s/epoch - 10ms/step\n",
            "Epoch 17/50\n",
            "632/632 - 6s - loss: 0.9044 - accuracy: 0.6887 - 6s/epoch - 10ms/step\n",
            "Epoch 18/50\n",
            "632/632 - 6s - loss: 0.8739 - accuracy: 0.6973 - 6s/epoch - 10ms/step\n",
            "Epoch 19/50\n",
            "632/632 - 6s - loss: 0.8356 - accuracy: 0.7121 - 6s/epoch - 10ms/step\n",
            "Epoch 20/50\n",
            "632/632 - 6s - loss: 0.8140 - accuracy: 0.7175 - 6s/epoch - 10ms/step\n",
            "Epoch 21/50\n",
            "632/632 - 6s - loss: 0.7809 - accuracy: 0.7305 - 6s/epoch - 10ms/step\n",
            "Epoch 22/50\n",
            "632/632 - 6s - loss: 0.7511 - accuracy: 0.7408 - 6s/epoch - 10ms/step\n",
            "Epoch 23/50\n",
            "632/632 - 6s - loss: 0.7195 - accuracy: 0.7545 - 6s/epoch - 10ms/step\n",
            "Epoch 24/50\n",
            "632/632 - 6s - loss: 0.6955 - accuracy: 0.7602 - 6s/epoch - 10ms/step\n",
            "Epoch 25/50\n",
            "632/632 - 6s - loss: 0.6668 - accuracy: 0.7672 - 6s/epoch - 10ms/step\n",
            "Epoch 26/50\n",
            "632/632 - 6s - loss: 0.6389 - accuracy: 0.7775 - 6s/epoch - 10ms/step\n",
            "Epoch 27/50\n",
            "632/632 - 6s - loss: 0.6042 - accuracy: 0.7904 - 6s/epoch - 10ms/step\n",
            "Epoch 28/50\n",
            "632/632 - 6s - loss: 0.5725 - accuracy: 0.7992 - 6s/epoch - 10ms/step\n",
            "Epoch 29/50\n",
            "632/632 - 6s - loss: 0.5528 - accuracy: 0.8033 - 6s/epoch - 10ms/step\n",
            "Epoch 30/50\n",
            "632/632 - 6s - loss: 0.5283 - accuracy: 0.8139 - 6s/epoch - 10ms/step\n",
            "Epoch 31/50\n",
            "632/632 - 6s - loss: 0.5033 - accuracy: 0.8209 - 6s/epoch - 10ms/step\n",
            "Epoch 32/50\n",
            "632/632 - 6s - loss: 0.4772 - accuracy: 0.8312 - 6s/epoch - 10ms/step\n",
            "Epoch 33/50\n",
            "632/632 - 6s - loss: 0.4457 - accuracy: 0.8404 - 6s/epoch - 10ms/step\n",
            "Epoch 34/50\n",
            "632/632 - 6s - loss: 0.4289 - accuracy: 0.8476 - 6s/epoch - 10ms/step\n",
            "Epoch 35/50\n",
            "632/632 - 6s - loss: 0.4065 - accuracy: 0.8558 - 6s/epoch - 10ms/step\n",
            "Epoch 36/50\n",
            "632/632 - 6s - loss: 0.3808 - accuracy: 0.8650 - 6s/epoch - 10ms/step\n",
            "Epoch 37/50\n",
            "632/632 - 6s - loss: 0.3569 - accuracy: 0.8744 - 6s/epoch - 10ms/step\n",
            "Epoch 38/50\n",
            "632/632 - 6s - loss: 0.3456 - accuracy: 0.8769 - 6s/epoch - 10ms/step\n",
            "Epoch 39/50\n",
            "632/632 - 6s - loss: 0.3248 - accuracy: 0.8838 - 6s/epoch - 10ms/step\n",
            "Epoch 40/50\n",
            "632/632 - 6s - loss: 0.3106 - accuracy: 0.8899 - 6s/epoch - 10ms/step\n",
            "Epoch 41/50\n",
            "632/632 - 6s - loss: 0.2879 - accuracy: 0.8979 - 6s/epoch - 10ms/step\n",
            "Epoch 42/50\n",
            "632/632 - 6s - loss: 0.2726 - accuracy: 0.9039 - 6s/epoch - 10ms/step\n",
            "Epoch 43/50\n",
            "632/632 - 6s - loss: 0.2640 - accuracy: 0.9059 - 6s/epoch - 10ms/step\n",
            "Epoch 44/50\n",
            "632/632 - 6s - loss: 0.2413 - accuracy: 0.9129 - 6s/epoch - 10ms/step\n",
            "Epoch 45/50\n",
            "632/632 - 6s - loss: 0.2377 - accuracy: 0.9144 - 6s/epoch - 10ms/step\n",
            "Epoch 46/50\n",
            "632/632 - 6s - loss: 0.2173 - accuracy: 0.9228 - 6s/epoch - 10ms/step\n",
            "Epoch 47/50\n",
            "632/632 - 6s - loss: 0.2133 - accuracy: 0.9244 - 6s/epoch - 10ms/step\n",
            "Epoch 48/50\n",
            "632/632 - 6s - loss: 0.2027 - accuracy: 0.9284 - 6s/epoch - 10ms/step\n",
            "Epoch 49/50\n",
            "632/632 - 6s - loss: 0.1889 - accuracy: 0.9328 - 6s/epoch - 10ms/step\n",
            "Epoch 50/50\n",
            "632/632 - 6s - loss: 0.1841 - accuracy: 0.9351 - 6s/epoch - 10ms/step\n",
            "-----------Testing-------------\n",
            "loss:1.963679313659668,accuracy:0.583899974822998\n"
          ]
        }
      ]
    },
    {
      "cell_type": "code",
      "metadata": {
        "colab": {
          "base_uri": "https://localhost:8080/"
        },
        "id": "okJ2iKB86i70",
        "outputId": "fd71ec62-56e5-43a5-8391-d04b3a2a20c9"
      },
      "source": [
        "#the final effect of the model on the test set\n",
        "preds = model.predict(x_test, batch_size=32)\n",
        "print(classification_report(y_test_oh.argmax(axis=1),preds.argmax(axis=1), digits=4))"
      ],
      "execution_count": null,
      "outputs": [
        {
          "output_type": "stream",
          "name": "stdout",
          "text": [
            "              precision    recall  f1-score   support\n",
            "\n",
            "           0     0.9096    0.1710    0.2879      1000\n",
            "           1     0.9002    0.3970    0.5510      1000\n",
            "           2     0.6230    0.4280    0.5074      1000\n",
            "           3     0.4961    0.3860    0.4342      1000\n",
            "           4     0.6134    0.4760    0.5360      1000\n",
            "           5     0.4776    0.6820    0.5618      1000\n",
            "           6     0.7269    0.7720    0.7488      1000\n",
            "           7     0.5753    0.8290    0.6792      1000\n",
            "           8     0.5635    0.9010    0.6933      1000\n",
            "           9     0.5406    0.8650    0.6654      1000\n",
            "\n",
            "    accuracy                         0.5907     10000\n",
            "   macro avg     0.6426    0.5907    0.5665     10000\n",
            "weighted avg     0.6426    0.5907    0.5665     10000\n",
            "\n"
          ]
        }
      ]
    }
  ]
}