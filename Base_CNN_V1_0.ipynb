{
  "nbformat": 4,
  "nbformat_minor": 0,
  "metadata": {
    "colab": {
      "name": "Base CNN V1.0.ipynb",
      "provenance": []
    },
    "kernelspec": {
      "name": "python3",
      "display_name": "Python 3"
    },
    "language_info": {
      "name": "python"
    },
    "accelerator": "GPU"
  },
  "cells": [
    {
      "cell_type": "code",
      "metadata": {
        "id": "6ee6YZrJVCId"
      },
      "source": [
        "# keras相关包\n",
        "from tensorflow.keras.applications import ResNet50\n",
        "from keras.layers import Flatten\n",
        "from keras.layers import Dense\n",
        "from keras.layers import Input\n",
        "from keras.models import Model\n",
        "from tensorflow.keras.optimizers import SGD\n",
        "from keras.preprocessing.image import ImageDataGenerator\n",
        "from keras.callbacks import ModelCheckpoint\n",
        "from keras.preprocessing.image import load_img\n",
        "from keras.preprocessing.image import img_to_array\n",
        "from keras.utils.np_utils import to_categorical\n",
        "from keras.preprocessing.image import ImageDataGenerator\n",
        "from keras.preprocessing.image import img_to_array\n",
        "from keras.preprocessing.image import load_img\n",
        "\n",
        "import random\n",
        "# sklearn相关包\n",
        "from sklearn.metrics import classification_report\n",
        "from sklearn.preprocessing import LabelBinarizer\n",
        "from sklearn.feature_extraction.image import extract_patches_2d\n",
        "\n",
        "import numpy as np\n",
        "import cv2\n",
        "import os\n",
        "from imutils import paths\n",
        "import progressbar\n",
        "\n",
        "# 作图\n",
        "import matplotlib.pyplot as plt\n",
        "%matplotlib inline\n",
        "\n",
        "#Basic Tool\n",
        "import pandas as pd\n",
        "import sys\n",
        "import io"
      ],
      "execution_count": 1,
      "outputs": []
    },
    {
      "cell_type": "code",
      "metadata": {
        "colab": {
          "base_uri": "https://localhost:8080/"
        },
        "id": "2FMdIUV5YTcg",
        "outputId": "767f7d80-232e-48c4-d3c7-29bc0e1421f6"
      },
      "source": [
        "from google.colab import drive\n",
        "drive.mount('/content/drive')"
      ],
      "execution_count": 2,
      "outputs": [
        {
          "output_type": "stream",
          "name": "stdout",
          "text": [
            "Mounted at /content/drive\n"
          ]
        }
      ]
    },
    {
      "cell_type": "code",
      "metadata": {
        "id": "i1wBSDooZS2H"
      },
      "source": [
        "\n",
        "#设置随机种子\n",
        "np.random.seed(161)\n",
        "\n",
        "from keras.datasets import cifar10"
      ],
      "execution_count": 3,
      "outputs": []
    },
    {
      "cell_type": "code",
      "metadata": {
        "colab": {
          "base_uri": "https://localhost:8080/"
        },
        "id": "uW5QFPVmYTfH",
        "outputId": "d074b736-db94-4c79-a5ee-065ca2a3aa36"
      },
      "source": [
        "#读取数据集\n",
        "(x_train, y_train), (x_test, y_test) = cifar10.load_data()\n",
        "\n",
        "#归一化\n",
        "x_train = x_train / 255.0\n",
        "x_test = x_test / 255.0"
      ],
      "execution_count": 4,
      "outputs": [
        {
          "output_type": "stream",
          "name": "stdout",
          "text": [
            "Downloading data from https://www.cs.toronto.edu/~kriz/cifar-10-python.tar.gz\n",
            "170500096/170498071 [==============================] - 2s 0us/step\n",
            "170508288/170498071 [==============================] - 2s 0us/step\n"
          ]
        }
      ]
    },
    {
      "cell_type": "code",
      "metadata": {
        "id": "oKLjFyy6YThx"
      },
      "source": [
        "def imbalanceData(__format,X_train,y_train):\n",
        "   \"\"\"\n",
        "   __format：The imbalance want to input\n",
        "   X_train:Train Set\n",
        "   y_train:Test Set\n",
        "   \"\"\"\n",
        "   train_classes, train_class_counts=np.unique(y_train, return_counts=True)\n",
        "   nb_train_classes = len(train_classes)\n",
        "   class_indices = [np.where(y_train == i)[0] for i in range(nb_train_classes)]\n",
        "   imbal_class_indices = [class_idx[:class_count] for class_idx, class_count in zip(class_indices, __format)]\n",
        "   imbal_class_indices = np.hstack(imbal_class_indices)\n",
        "   y = y_train[imbal_class_indices]\n",
        "   X = x_train[imbal_class_indices]  \n",
        "   return X,y"
      ],
      "execution_count": 5,
      "outputs": []
    },
    {
      "cell_type": "code",
      "metadata": {
        "id": "eLH7fVA4YTkx"
      },
      "source": [
        "imbal_class_counts=[5000,5000]*5 #you can use the format such:[500,1000]*5 [100,200,300,400,500,...,1000]\n",
        "x_train,y_train=imbalanceData(imbal_class_counts,x_train,y_train)"
      ],
      "execution_count": 19,
      "outputs": []
    },
    {
      "cell_type": "code",
      "metadata": {
        "id": "qRDRptn-YTnb"
      },
      "source": [
        "# Y 热编码\n",
        "y_train_oh = to_categorical(y_train)\n",
        "y_test_oh = to_categorical(y_test)"
      ],
      "execution_count": 20,
      "outputs": []
    },
    {
      "cell_type": "code",
      "metadata": {
        "id": "gH0gRuhx4opG"
      },
      "source": [
        "from keras.utils import np_utils\n",
        "from keras.models import Sequential\n",
        "from keras.layers import Dense,Conv2D,MaxPooling2D,Dropout,Flatten,BatchNormalization"
      ],
      "execution_count": 22,
      "outputs": []
    },
    {
      "cell_type": "code",
      "metadata": {
        "colab": {
          "base_uri": "https://localhost:8080/"
        },
        "id": "2upiXcmhYTqC",
        "outputId": "f6e0aeec-4883-489c-f9bc-13b99b111309"
      },
      "source": [
        "#定义模型\n",
        "model=Sequential()\n",
        "\n",
        "model.add(Conv2D(32,(3,3),padding='same',input_shape=x_train.shape[1:],activation='relu'))\n",
        "model.add(Conv2D(32,(3,3),padding='same',input_shape=(32,32,3),activation='relu'))\n",
        "model.add(MaxPooling2D(pool_size=(2,2)))\n",
        "model.add(Dropout(0.25))\n",
        "\n",
        "model.add(Conv2D(64,(3,3),padding='same',input_shape=(32,32,3),activation='relu'))\n",
        "model.add(Conv2D(64,(3,3),padding='same',input_shape=(32,32,3),activation='relu'))\n",
        "model.add(MaxPooling2D(pool_size=(2,2)))\n",
        "\n",
        "model.add(Flatten())\n",
        "model.add(Dense(512,activation='relu'))\n",
        "model.add(Dropout(0.5))\n",
        "model.add(Dense(10,activation='softmax'))\n",
        "\n",
        "model.compile(loss='categorical_crossentropy',optimizer='adam',metrics=['accuracy'])\n",
        "\n",
        "model.summary()"
      ],
      "execution_count": 36,
      "outputs": [
        {
          "output_type": "stream",
          "name": "stdout",
          "text": [
            "Model: \"sequential_3\"\n",
            "_________________________________________________________________\n",
            "Layer (type)                 Output Shape              Param #   \n",
            "=================================================================\n",
            "conv2d_12 (Conv2D)           (None, 32, 32, 32)        896       \n",
            "_________________________________________________________________\n",
            "conv2d_13 (Conv2D)           (None, 32, 32, 32)        9248      \n",
            "_________________________________________________________________\n",
            "max_pooling2d_6 (MaxPooling2 (None, 16, 16, 32)        0         \n",
            "_________________________________________________________________\n",
            "dropout_6 (Dropout)          (None, 16, 16, 32)        0         \n",
            "_________________________________________________________________\n",
            "conv2d_14 (Conv2D)           (None, 16, 16, 64)        18496     \n",
            "_________________________________________________________________\n",
            "conv2d_15 (Conv2D)           (None, 16, 16, 64)        36928     \n",
            "_________________________________________________________________\n",
            "max_pooling2d_7 (MaxPooling2 (None, 8, 8, 64)          0         \n",
            "_________________________________________________________________\n",
            "flatten_4 (Flatten)          (None, 4096)              0         \n",
            "_________________________________________________________________\n",
            "dense_7 (Dense)              (None, 512)               2097664   \n",
            "_________________________________________________________________\n",
            "dropout_7 (Dropout)          (None, 512)               0         \n",
            "_________________________________________________________________\n",
            "dense_8 (Dense)              (None, 10)                5130      \n",
            "=================================================================\n",
            "Total params: 2,168,362\n",
            "Trainable params: 2,168,362\n",
            "Non-trainable params: 0\n",
            "_________________________________________________________________\n"
          ]
        }
      ]
    },
    {
      "cell_type": "code",
      "metadata": {
        "colab": {
          "base_uri": "https://localhost:8080/"
        },
        "id": "QRYqPCj45d0M",
        "outputId": "78c8e541-f8c9-4e06-eced-5f8523514e42"
      },
      "source": [
        "#训练模型\n",
        "print('-----------Training-----------')\n",
        "model.fit(x_train,y_train_oh,batch_size=32,epochs=20,verbose=2)\n",
        "\n",
        "#评估模型\n",
        "print('-----------Testing-------------')\n",
        "scores=model.evaluate(x_test,y_test_oh,verbose=0)\n",
        "print('loss:%s,accuracy:%s' % (scores[0],scores[1]))\n",
        "\n",
        "# #模型保存\n",
        "# model.save('cifar10_cnn_model.h5')"
      ],
      "execution_count": 37,
      "outputs": [
        {
          "output_type": "stream",
          "name": "stdout",
          "text": [
            "-----------Training-----------\n",
            "Epoch 1/20\n",
            "860/860 - 9s - loss: 1.2709 - accuracy: 0.5196\n",
            "Epoch 2/20\n",
            "860/860 - 8s - loss: 0.9339 - accuracy: 0.6591\n",
            "Epoch 3/20\n",
            "860/860 - 8s - loss: 0.7724 - accuracy: 0.7164\n",
            "Epoch 4/20\n",
            "860/860 - 8s - loss: 0.6665 - accuracy: 0.7604\n",
            "Epoch 5/20\n",
            "860/860 - 8s - loss: 0.5806 - accuracy: 0.7859\n",
            "Epoch 6/20\n",
            "860/860 - 8s - loss: 0.5055 - accuracy: 0.8133\n",
            "Epoch 7/20\n",
            "860/860 - 8s - loss: 0.4508 - accuracy: 0.8339\n",
            "Epoch 8/20\n",
            "860/860 - 8s - loss: 0.3889 - accuracy: 0.8579\n",
            "Epoch 9/20\n",
            "860/860 - 8s - loss: 0.3406 - accuracy: 0.8764\n",
            "Epoch 10/20\n",
            "860/860 - 8s - loss: 0.3105 - accuracy: 0.8891\n",
            "Epoch 11/20\n",
            "860/860 - 8s - loss: 0.2779 - accuracy: 0.8974\n",
            "Epoch 12/20\n",
            "860/860 - 8s - loss: 0.2401 - accuracy: 0.9117\n",
            "Epoch 13/20\n",
            "860/860 - 8s - loss: 0.2337 - accuracy: 0.9149\n",
            "Epoch 14/20\n",
            "860/860 - 8s - loss: 0.2106 - accuracy: 0.9240\n",
            "Epoch 15/20\n",
            "860/860 - 8s - loss: 0.1946 - accuracy: 0.9305\n",
            "Epoch 16/20\n",
            "860/860 - 8s - loss: 0.1911 - accuracy: 0.9327\n",
            "Epoch 17/20\n",
            "860/860 - 8s - loss: 0.1767 - accuracy: 0.9363\n",
            "Epoch 18/20\n",
            "860/860 - 8s - loss: 0.1729 - accuracy: 0.9412\n",
            "Epoch 19/20\n",
            "860/860 - 8s - loss: 0.1631 - accuracy: 0.9409\n",
            "Epoch 20/20\n",
            "860/860 - 8s - loss: 0.1603 - accuracy: 0.9436\n",
            "-----------Testing-------------\n",
            "loss:2.3959410190582275,accuracy:0.6101999878883362\n"
          ]
        }
      ]
    },
    {
      "cell_type": "code",
      "metadata": {
        "colab": {
          "base_uri": "https://localhost:8080/"
        },
        "id": "okJ2iKB86i70",
        "outputId": "6f009ac6-800d-40d6-d8ac-9787f1a4e164"
      },
      "source": [
        "preds = model.predict(x_test, batch_size=32)\n",
        "print(classification_report(y_test_oh.argmax(axis=1),preds.argmax(axis=1), digits=4))"
      ],
      "execution_count": 38,
      "outputs": [
        {
          "output_type": "stream",
          "name": "stdout",
          "text": [
            "              precision    recall  f1-score   support\n",
            "\n",
            "           0     0.7146    0.5910    0.6470      1000\n",
            "           1     0.7156    0.9210    0.8054      1000\n",
            "           2     0.7029    0.2390    0.3567      1000\n",
            "           3     0.3412    0.7230    0.4636      1000\n",
            "           4     0.7432    0.1910    0.3039      1000\n",
            "           5     0.5101    0.7050    0.5919      1000\n",
            "           6     0.9007    0.3990    0.5530      1000\n",
            "           7     0.6061    0.8680    0.7138      1000\n",
            "           8     0.8444    0.5860    0.6919      1000\n",
            "           9     0.7211    0.8790    0.7922      1000\n",
            "\n",
            "    accuracy                         0.6102     10000\n",
            "   macro avg     0.6800    0.6102    0.5919     10000\n",
            "weighted avg     0.6800    0.6102    0.5919     10000\n",
            "\n"
          ]
        }
      ]
    }
  ]
}