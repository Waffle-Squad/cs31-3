{
  "nbformat": 4,
  "nbformat_minor": 0,
  "metadata": {
    "colab": {
      "name": "model minist.ipynb",
      "provenance": [],
      "collapsed_sections": []
    },
    "kernelspec": {
      "name": "python3",
      "display_name": "Python 3"
    },
    "language_info": {
      "name": "python"
    },
    "accelerator": "GPU"
  },
  "cells": [
    {
      "cell_type": "code",
      "metadata": {
        "id": "6ee6YZrJVCId"
      },
      "source": [
        "# keras packages\n",
        "from tensorflow.keras.applications import ResNet50\n",
        "from keras.layers import Flatten\n",
        "from keras.layers import Dense\n",
        "from keras.layers import Input\n",
        "from keras.models import Model\n",
        "from tensorflow.keras.optimizers import SGD\n",
        "from keras.preprocessing.image import ImageDataGenerator\n",
        "from keras.callbacks import ModelCheckpoint\n",
        "from keras.preprocessing.image import load_img\n",
        "from keras.preprocessing.image import img_to_array\n",
        "from keras.utils.np_utils import to_categorical\n",
        "from keras.preprocessing.image import ImageDataGenerator\n",
        "from keras.preprocessing.image import img_to_array\n",
        "from keras.preprocessing.image import load_img\n",
        "from keras.utils import np_utils\n",
        "from keras.models import Sequential\n",
        "from keras.layers import Dense,Conv2D,MaxPooling2D,Dropout,Flatten,BatchNormalization\n",
        "from keras.datasets import mnist\n",
        "\n",
        "\n",
        "# sklearn packages\n",
        "from sklearn.metrics import classification_report\n",
        "from sklearn.preprocessing import LabelBinarizer\n",
        "from sklearn.feature_extraction.image import extract_patches_2d\n",
        "from sklearn.model_selection import train_test_split\n",
        "\n",
        "import random\n",
        "import numpy as np\n",
        "import cv2\n",
        "import os\n",
        "from imutils import paths\n",
        "import progressbar\n",
        "\n",
        "# drawing packages\n",
        "import matplotlib.pyplot as plt\n",
        "%matplotlib inline\n",
        "\n",
        "#basic tool\n",
        "import pandas as pd\n",
        "import sys\n",
        "import io"
      ],
      "execution_count": null,
      "outputs": []
    },
    {
      "cell_type": "code",
      "metadata": {
        "colab": {
          "base_uri": "https://localhost:8080/"
        },
        "id": "2FMdIUV5YTcg",
        "outputId": "fa69a9ee-7c3d-462c-d707-04051bd3610c"
      },
      "source": [
        "from google.colab import drive\n",
        "drive.mount('/content/drive')"
      ],
      "execution_count": null,
      "outputs": [
        {
          "output_type": "stream",
          "name": "stdout",
          "text": [
            "Mounted at /content/drive\n"
          ]
        }
      ]
    },
    {
      "cell_type": "markdown",
      "metadata": {
        "id": "lfwXRtyMoxIS"
      },
      "source": [
        "# Load data & Data Preprocessing"
      ]
    },
    {
      "cell_type": "code",
      "metadata": {
        "id": "i1wBSDooZS2H"
      },
      "source": [
        "np.random.seed(161)\n",
        "\n",
        "# load data\n",
        "(x_train, y_train), (x_test, y_test) = mnist.load_data()\n",
        "x_train, x_val, y_train, y_val = train_test_split(x_train, y_train, test_size = 0.20, random_state = 31)\n",
        "\n",
        "x_train=[cv2.cvtColor(cv2.resize(i,(32,32)),cv2.COLOR_GRAY2BGR)for i in x_train]\n",
        "x_train=np.concatenate([arr[np.newaxis]for arr in x_train]).astype('float32')\n",
        "x_train=x_train/255\n",
        "\n",
        "x_val=[cv2.cvtColor(cv2.resize(i,(32,32)),cv2.COLOR_GRAY2BGR)for i in x_val]\n",
        "x_val=np.concatenate([arr[np.newaxis]for arr in x_val]).astype('float32')\n",
        "x_val=x_val/255\n",
        "\n",
        "x_test=[cv2.cvtColor(cv2.resize(i,(32,32)),cv2.COLOR_GRAY2BGR)for i in x_test]\n",
        "x_test=np.concatenate([arr[np.newaxis]for arr in x_test]).astype('float32')\n",
        "x_test=x_test/255"
      ],
      "execution_count": null,
      "outputs": []
    },
    {
      "cell_type": "code",
      "metadata": {
        "id": "oKLjFyy6YThx"
      },
      "source": [
        "#construct a non-equilibrium sample\n",
        "def imbalanceData(__format,X_train,y_train):\n",
        "   train_classes, train_class_counts=np.unique(y_train, return_counts=True)\n",
        "   nb_train_classes = len(train_classes)\n",
        "   class_indices = [np.where(y_train == i)[0] for i in range(nb_train_classes)]\n",
        "   imbal_class_indices = [class_idx[:class_count] for class_idx, class_count in zip(class_indices, __format)]\n",
        "   imbal_class_indices = np.hstack(imbal_class_indices)\n",
        "   y = y_train[imbal_class_indices]\n",
        "   X = x_train[imbal_class_indices]  \n",
        "   return X,y"
      ],
      "execution_count": null,
      "outputs": []
    },
    {
      "cell_type": "code",
      "metadata": {
        "id": "eLH7fVA4YTkx"
      },
      "source": [
        "imbal_class_counts=[250,750,1250,1750,2250,2750,3250,3750,4250,5000]\n",
        "imbal_class_counts=[int(i * 4/5) for i in imbal_class_counts]\n",
        "x_train,y_train=imbalanceData(imbal_class_counts,x_train,y_train)"
      ],
      "execution_count": null,
      "outputs": []
    },
    {
      "cell_type": "code",
      "metadata": {
        "id": "qRDRptn-YTnb"
      },
      "source": [
        "# Y one hot\n",
        "y_train_oh = to_categorical(y_train)\n",
        "y_val_oh = to_categorical(y_val)\n",
        "y_test_oh = to_categorical(y_test)"
      ],
      "execution_count": null,
      "outputs": []
    },
    {
      "cell_type": "markdown",
      "metadata": {
        "id": "0jjkSEJLpRym"
      },
      "source": [
        "## Base Model"
      ]
    },
    {
      "cell_type": "code",
      "metadata": {
        "id": "2upiXcmhYTqC",
        "colab": {
          "base_uri": "https://localhost:8080/"
        },
        "outputId": "5e4750d3-75b8-462e-ea33-4e423c1536b7"
      },
      "source": [
        "# Load ResNet50 that does not contain the top layer as the baseModel\n",
        "baseModel = ResNet50(weights=\"imagenet\", include_top=False, input_tensor=Input(shape=(32, 32,3)))"
      ],
      "execution_count": null,
      "outputs": [
        {
          "output_type": "stream",
          "name": "stdout",
          "text": [
            "Downloading data from https://storage.googleapis.com/tensorflow/keras-applications/resnet/resnet50_weights_tf_dim_ordering_tf_kernels_notop.h5\n",
            "94773248/94765736 [==============================] - 1s 0us/step\n",
            "94781440/94765736 [==============================] - 1s 0us/step\n"
          ]
        }
      ]
    },
    {
      "cell_type": "code",
      "metadata": {
        "id": "wlHMqhjFYTsq"
      },
      "source": [
        "def headmodel(baseModel):\n",
        "    # Add a new layer based on baseModel\n",
        "    headModel = baseModel.output\n",
        "    \n",
        "    # New top layers\n",
        "    headModel = Flatten()(headModel)\n",
        "    headModel = Dense(10, activation=\"softmax\")(headModel)\n",
        "    return headModel"
      ],
      "execution_count": null,
      "outputs": []
    },
    {
      "cell_type": "code",
      "metadata": {
        "id": "QHwIZeQeYTvS"
      },
      "source": [
        "headModel = headmodel(baseModel)\n",
        "model = Model(inputs=baseModel.input, outputs=headModel)"
      ],
      "execution_count": null,
      "outputs": []
    },
    {
      "cell_type": "code",
      "metadata": {
        "colab": {
          "base_uri": "https://localhost:8080/"
        },
        "id": "wGhCAx4DYTx7",
        "outputId": "db68cf4c-f019-4020-99ee-4a0ef01373fd"
      },
      "source": [
        "# Callback function for saving model snapshot\n",
        "modelname = \"cifar10-resnet50-weights-{epoch:03d}-{val_loss:.4f}.hdf5\"\n",
        "\n",
        "#When the monitor parameter is val loss, the mode option is min; \n",
        "#save_best_only: When set to True, only the model with the best performance on the validation set will be saved\n",
        "checkpoint = ModelCheckpoint(modelname, monitor=\"val_loss\", mode=\"min\", save_best_only=True)\n",
        "\n",
        "# Freeze the parameters of all layers of baseModel without learning\n",
        "for layer in baseModel.layers:\n",
        "    layer.trainable = False\n",
        "\n",
        "# Compile\n",
        "# The learning rate is adjusted to 0.01; \n",
        "# the optimizer is set to SGD(lr=learning rate, decay=learning rate/nb_ephoch, momentum=0.9, nesterov=True) st. The learning rate changes with the training round\n",
        "sgd = SGD(lr=0.01, decay=0.01/20, momentum=0.9, nesterov=True) \n",
        "model.compile(loss=\"categorical_crossentropy\", optimizer=sgd, metrics=[\"accuracy\"])"
      ],
      "execution_count": null,
      "outputs": [
        {
          "output_type": "stream",
          "name": "stderr",
          "text": [
            "/usr/local/lib/python3.7/dist-packages/keras/optimizer_v2/gradient_descent.py:102: UserWarning: The `lr` argument is deprecated, use `learning_rate` instead.\n",
            "  super(SGD, self).__init__(name, **kwargs)\n"
          ]
        }
      ]
    },
    {
      "cell_type": "code",
      "metadata": {
        "colab": {
          "base_uri": "https://localhost:8080/"
        },
        "id": "LMQrHXlfYT0v",
        "outputId": "93c96592-cef7-47e1-e68a-070571a46c2a"
      },
      "source": [
        "H = model.fit(x_train, y_train_oh, batch_size=32,\n",
        "                        validation_data=(x_val, y_val_oh),\n",
        "                        callbacks=[checkpoint],\n",
        "                        epochs=20)\n"
      ],
      "execution_count": null,
      "outputs": [
        {
          "output_type": "stream",
          "name": "stdout",
          "text": [
            "Epoch 1/20\n",
            "632/632 [==============================] - ETA: 0s - loss: 4.0668 - accuracy: 0.6585"
          ]
        },
        {
          "output_type": "stream",
          "name": "stderr",
          "text": [
            "/usr/local/lib/python3.7/dist-packages/keras/engine/functional.py:1410: CustomMaskWarning: Custom mask layers require a config and must override get_config. When loading, the custom mask layer must be passed to the custom_objects argument.\n",
            "  layer_config = serialize_layer_fn(layer)\n"
          ]
        },
        {
          "output_type": "stream",
          "name": "stdout",
          "text": [
            "632/632 [==============================] - 61s 46ms/step - loss: 4.0668 - accuracy: 0.6585 - val_loss: 1.0118 - val_accuracy: 0.7500\n",
            "Epoch 2/20\n",
            "632/632 [==============================] - 29s 46ms/step - loss: 0.5676 - accuracy: 0.8333 - val_loss: 0.9700 - val_accuracy: 0.7459\n",
            "Epoch 3/20\n",
            "632/632 [==============================] - 29s 45ms/step - loss: 0.4538 - accuracy: 0.8589 - val_loss: 1.2353 - val_accuracy: 0.6704\n",
            "Epoch 4/20\n",
            "632/632 [==============================] - 27s 43ms/step - loss: 0.3967 - accuracy: 0.8756 - val_loss: 0.7166 - val_accuracy: 0.8027\n",
            "Epoch 5/20\n",
            "632/632 [==============================] - 27s 43ms/step - loss: 0.3575 - accuracy: 0.8853 - val_loss: 0.5982 - val_accuracy: 0.8205\n",
            "Epoch 6/20\n",
            "632/632 [==============================] - 27s 43ms/step - loss: 0.3342 - accuracy: 0.8921 - val_loss: 0.5403 - val_accuracy: 0.8409\n",
            "Epoch 7/20\n",
            "632/632 [==============================] - 28s 45ms/step - loss: 0.3178 - accuracy: 0.8963 - val_loss: 0.6811 - val_accuracy: 0.7868\n",
            "Epoch 8/20\n",
            "632/632 [==============================] - 27s 43ms/step - loss: 0.3076 - accuracy: 0.9004 - val_loss: 0.4908 - val_accuracy: 0.8482\n",
            "Epoch 9/20\n",
            "632/632 [==============================] - 27s 43ms/step - loss: 0.2917 - accuracy: 0.9082 - val_loss: 0.3974 - val_accuracy: 0.8712\n",
            "Epoch 10/20\n",
            "632/632 [==============================] - 27s 43ms/step - loss: 0.2872 - accuracy: 0.9083 - val_loss: 0.3552 - val_accuracy: 0.8882\n",
            "Epoch 11/20\n",
            "632/632 [==============================] - 27s 42ms/step - loss: 0.2808 - accuracy: 0.9118 - val_loss: 0.4363 - val_accuracy: 0.8660\n",
            "Epoch 12/20\n",
            "632/632 [==============================] - 28s 45ms/step - loss: 0.2727 - accuracy: 0.9131 - val_loss: 0.3835 - val_accuracy: 0.8838\n",
            "Epoch 13/20\n",
            "632/632 [==============================] - 29s 46ms/step - loss: 0.2714 - accuracy: 0.9143 - val_loss: 0.3340 - val_accuracy: 0.8952\n",
            "Epoch 14/20\n",
            "632/632 [==============================] - 28s 45ms/step - loss: 0.2620 - accuracy: 0.9170 - val_loss: 0.4964 - val_accuracy: 0.8489\n",
            "Epoch 15/20\n",
            "632/632 [==============================] - 28s 45ms/step - loss: 0.2614 - accuracy: 0.9156 - val_loss: 0.3536 - val_accuracy: 0.8938\n",
            "Epoch 16/20\n",
            "632/632 [==============================] - 28s 44ms/step - loss: 0.2553 - accuracy: 0.9202 - val_loss: 0.3472 - val_accuracy: 0.8913\n",
            "Epoch 17/20\n",
            "632/632 [==============================] - 26s 41ms/step - loss: 0.2512 - accuracy: 0.9212 - val_loss: 0.4526 - val_accuracy: 0.8628\n",
            "Epoch 18/20\n",
            "632/632 [==============================] - 26s 41ms/step - loss: 0.2500 - accuracy: 0.9199 - val_loss: 0.3825 - val_accuracy: 0.8795\n",
            "Epoch 19/20\n",
            "632/632 [==============================] - 27s 42ms/step - loss: 0.2469 - accuracy: 0.9213 - val_loss: 0.3115 - val_accuracy: 0.9052\n",
            "Epoch 20/20\n",
            "632/632 [==============================] - 29s 45ms/step - loss: 0.2459 - accuracy: 0.9222 - val_loss: 0.3057 - val_accuracy: 0.9064\n"
          ]
        }
      ]
    },
    {
      "cell_type": "code",
      "metadata": {
        "colab": {
          "base_uri": "https://localhost:8080/",
          "height": 299
        },
        "id": "mn3FUa_1YT3Y",
        "outputId": "0ffb31d2-69f8-46a5-9a0a-1473c35b310b"
      },
      "source": [
        "# Draw loss and accuracy curves\n",
        "plt.style.use(\"ggplot\")\n",
        "plt.figure()\n",
        "plt.plot(np.arange(0, 20), H.history[\"loss\"], label=\"train_loss\")\n",
        "plt.plot(np.arange(0, 20), H.history[\"val_loss\"], label=\"val_loss\")\n",
        "plt.plot(np.arange(0, 20), H.history[\"accuracy\"], label=\"train_acc\")\n",
        "plt.plot(np.arange(0, 20), H.history[\"val_accuracy\"], label=\"val_acc\")\n",
        "plt.title(\"Training Loss and Accuracy\")\n",
        "plt.title(\"Training and val Loss\")\n",
        "plt.xlabel(\"Epoch #\")\n",
        "plt.ylabel(\"Loss\")\n",
        "plt.legend()\n",
        "plt.show()"
      ],
      "execution_count": null,
      "outputs": [
        {
          "output_type": "display_data",
          "data": {
            "image/png": "[encoded data removed]",
            "text/plain": [
              "<Figure size 432x288 with 1 Axes>"
            ]
          },
          "metadata": {}
        }
      ]
    },
    {
      "cell_type": "markdown",
      "metadata": {
        "id": "hYGfTKs-rNFX"
      },
      "source": [
        "## Update the training set based on F1-score"
      ]
    },
    {
      "cell_type": "code",
      "metadata": {
        "colab": {
          "base_uri": "https://localhost:8080/"
        },
        "id": "DZ4xEyjCYT6O",
        "outputId": "8b31ac62-c89c-49d1-a21f-877f2e1965fa"
      },
      "source": [
        "# Classified evaluation report\n",
        "preds = model.predict(x_val, batch_size=32)\n",
        "print(classification_report(y_val_oh.argmax(axis=1),preds.argmax(axis=1), digits=4))"
      ],
      "execution_count": null,
      "outputs": [
        {
          "output_type": "stream",
          "name": "stdout",
          "text": [
            "              precision    recall  f1-score   support\n",
            "\n",
            "           0     0.9895    0.7317    0.8413      1163\n",
            "           1     0.9866    0.9800    0.9833      1352\n",
            "           2     0.9491    0.8607    0.9027      1170\n",
            "           3     0.9279    0.8816    0.9041      1182\n",
            "           4     0.9129    0.9231    0.9180      1158\n",
            "           5     0.8897    0.8814    0.8856      1071\n",
            "           6     0.8301    0.9800    0.8988      1251\n",
            "           7     0.9336    0.9456    0.9396      1324\n",
            "           8     0.8257    0.8884    0.8559      1093\n",
            "           9     0.8580    0.9628    0.9074      1236\n",
            "\n",
            "    accuracy                         0.9064     12000\n",
            "   macro avg     0.9103    0.9035    0.9037     12000\n",
            "weighted avg     0.9116    0.9064    0.9058     12000\n",
            "\n"
          ]
        }
      ]
    },
    {
      "cell_type": "code",
      "metadata": {
        "colab": {
          "base_uri": "https://localhost:8080/"
        },
        "id": "9_QDu2KZrnV5",
        "outputId": "d2d4ea87-4dbb-416f-c3aa-7f4ab8cdb92c"
      },
      "source": [
        "final_report = classification_report(y_val_oh.argmax(axis=1),preds.argmax(axis=1), digits=4)\n",
        "report_pd = pd.read_csv(io.StringIO(final_report), delim_whitespace=True, error_bad_lines=False)"
      ],
      "execution_count": null,
      "outputs": [
        {
          "output_type": "stream",
          "name": "stderr",
          "text": [
            "b'Skipping line 15: expected 5 fields, saw 6\\nSkipping line 16: expected 5 fields, saw 6\\n'\n"
          ]
        }
      ]
    },
    {
      "cell_type": "code",
      "metadata": {
        "colab": {
          "base_uri": "https://localhost:8080/"
        },
        "id": "uH6YVRQNrnY8",
        "outputId": "ae055f1e-598c-4e45-94ef-af10457297a5"
      },
      "source": [
        "report_re = report_pd[:10]\n",
        "report_re = report_re.reset_index()\n",
        "report_re = report_re[[\"index\", \"f1-score\"]]\n",
        "report_re.columns=['class_name','f1_score']\n",
        "#1-F1 score used for uodating the sample size \n",
        "report_re['1-f1_score'] = 1-report_re['f1_score']\n",
        "ds_sum = report_re['1-f1_score'].sum() \n",
        "report_re[\"class_weight\"] = report_re[\"1-f1_score\"]/ds_sum\n",
        "report_re[\"re_class_counts\"] = (report_re[\"1-f1_score\"]/ds_sum)*len(x_train)\n",
        "report_re[\"row_distribution\"] = pd.DataFrame(imbal_class_counts)\n",
        "report_re['tt'] = report_re['re_class_counts'] - report_re['row_distribution']\n",
        "report_re.loc[report_re[\"tt\"]<0,\"tt\"] = report_re[\"re_class_counts\"]\n",
        "report_re002 = report_re[[\"class_name\",\"class_weight\",\"re_class_counts\",\"row_distribution\",\"tt\"]]\n",
        "report_re002[\"tt\"] = round(report_re002[\"tt\"])\n",
        "report_re002.columns=['class_name',\"class_weight\",\"re_class_counts\",\"row_distribution\",\"update_num\"]"
      ],
      "execution_count": null,
      "outputs": [
        {
          "output_type": "stream",
          "name": "stderr",
          "text": [
            "/usr/local/lib/python3.7/dist-packages/ipykernel_launcher.py:14: SettingWithCopyWarning: \n",
            "A value is trying to be set on a copy of a slice from a DataFrame.\n",
            "Try using .loc[row_indexer,col_indexer] = value instead\n",
            "\n",
            "See the caveats in the documentation: https://pandas.pydata.org/pandas-docs/stable/user_guide/indexing.html#returning-a-view-versus-a-copy\n",
            "  \n"
          ]
        }
      ]
    },
    {
      "cell_type": "code",
      "metadata": {
        "id": "i1bu5kW1rnbU"
      },
      "source": [
        "def choosingImages(x_train,y_train):\n",
        "  c_X_train=[]\n",
        "  for i in range(10):\n",
        "    # print(i)\n",
        "    class_indices_=[np.where(y_train == i)[0]]\n",
        "    x_train_ = x_train[class_indices_]\n",
        "    c_X_train.append(x_train_)\n",
        "  return c_X_train"
      ],
      "execution_count": null,
      "outputs": []
    },
    {
      "cell_type": "code",
      "metadata": {
        "colab": {
          "base_uri": "https://localhost:8080/"
        },
        "id": "gNiqxgJjrnd3",
        "outputId": "48baac1d-45f8-4437-8e2c-c7981e47179c"
      },
      "source": [
        "X_train_list=choosingImages(x_train,y_train)"
      ],
      "execution_count": null,
      "outputs": [
        {
          "output_type": "stream",
          "name": "stderr",
          "text": [
            "/usr/local/lib/python3.7/dist-packages/ipykernel_launcher.py:6: FutureWarning: Using a non-tuple sequence for multidimensional indexing is deprecated; use `arr[tuple(seq)]` instead of `arr[seq]`. In the future this will be interpreted as an array index, `arr[np.array(seq)]`, which will result either in an error or a different result.\n",
            "  \n"
          ]
        }
      ]
    },
    {
      "cell_type": "code",
      "metadata": {
        "id": "nM2p8RFqtCAZ"
      },
      "source": [
        "#Data augmentation function\n",
        "def data_augmentation(img, number):\n",
        "  image = np.expand_dims(img, axis=0)\n",
        "  # Instantiate the image generator class to specify some common image augmentation parameters\n",
        "  aug = ImageDataGenerator(rotation_range=30,\n",
        "                width_shift_range=0.1,\n",
        "                height_shift_range=0.1, \n",
        "                shear_range=0.2, \n",
        "                zoom_range=0.2,\n",
        "                horizontal_flip=True,\n",
        "                fill_mode=\"nearest\")\n",
        "    \n",
        "  imageGen = aug.flow(image, batch_size=1)\n",
        "\n",
        "  total = 0\n",
        "  imglist = []\n",
        "  for x in imageGen:\n",
        "    total += 1\n",
        "    imglist.append(x)\n",
        "    if total == number:\n",
        "      break\n",
        "\n",
        "  # imgback = np.array(imglist)\n",
        "  return imglist"
      ],
      "execution_count": null,
      "outputs": []
    },
    {
      "cell_type": "code",
      "metadata": {
        "id": "YdtjRR2mtCDR"
      },
      "source": [
        "def img_add(x_train_i, num):\n",
        "  img_list = []\n",
        "  for image in x_train_i:\n",
        "    img_list_i = data_augmentation(image, 20)\n",
        "    img_list.extend(img_list_i)\n",
        "  \n",
        "  imgback = random.sample(img_list, num)\n",
        "  imgback = np.array(imgback)\n",
        "  final_x_train_i = np.vstack((x_train_i,imgback.squeeze()))\n",
        "  return final_x_train_i"
      ],
      "execution_count": null,
      "outputs": []
    },
    {
      "cell_type": "code",
      "metadata": {
        "colab": {
          "base_uri": "https://localhost:8080/",
          "height": 359
        },
        "id": "wNSIFpAx5FIk",
        "outputId": "e8528ed1-e1d9-49bf-9a36-a097439de9f6"
      },
      "source": [
        "report_re002"
      ],
      "execution_count": null,
      "outputs": [
        {
          "output_type": "execute_result",
          "data": {
            "text/html": [
              "<div>\n",
              "<style scoped>\n",
              "    .dataframe tbody tr th:only-of-type {\n",
              "        vertical-align: middle;\n",
              "    }\n",
              "\n",
              "    .dataframe tbody tr th {\n",
              "        vertical-align: top;\n",
              "    }\n",
              "\n",
              "    .dataframe thead th {\n",
              "        text-align: right;\n",
              "    }\n",
              "</style>\n",
              "<table border=\"1\" class=\"dataframe\">\n",
              "  <thead>\n",
              "    <tr style=\"text-align: right;\">\n",
              "      <th></th>\n",
              "      <th>class_name</th>\n",
              "      <th>class_weight</th>\n",
              "      <th>re_class_counts</th>\n",
              "      <th>row_distribution</th>\n",
              "      <th>update_num</th>\n",
              "    </tr>\n",
              "  </thead>\n",
              "  <tbody>\n",
              "    <tr>\n",
              "      <th>0</th>\n",
              "      <td>0</td>\n",
              "      <td>0.164746</td>\n",
              "      <td>3327.872937</td>\n",
              "      <td>200</td>\n",
              "      <td>3128.0</td>\n",
              "    </tr>\n",
              "    <tr>\n",
              "      <th>1</th>\n",
              "      <td>1</td>\n",
              "      <td>0.017336</td>\n",
              "      <td>350.192048</td>\n",
              "      <td>600</td>\n",
              "      <td>350.0</td>\n",
              "    </tr>\n",
              "    <tr>\n",
              "      <th>2</th>\n",
              "      <td>2</td>\n",
              "      <td>0.101007</td>\n",
              "      <td>2040.340496</td>\n",
              "      <td>1000</td>\n",
              "      <td>1040.0</td>\n",
              "    </tr>\n",
              "    <tr>\n",
              "      <th>3</th>\n",
              "      <td>3</td>\n",
              "      <td>0.099554</td>\n",
              "      <td>2010.983079</td>\n",
              "      <td>1400</td>\n",
              "      <td>611.0</td>\n",
              "    </tr>\n",
              "    <tr>\n",
              "      <th>4</th>\n",
              "      <td>4</td>\n",
              "      <td>0.085124</td>\n",
              "      <td>1719.505865</td>\n",
              "      <td>1800</td>\n",
              "      <td>1720.0</td>\n",
              "    </tr>\n",
              "    <tr>\n",
              "      <th>5</th>\n",
              "      <td>5</td>\n",
              "      <td>0.118758</td>\n",
              "      <td>2398.920378</td>\n",
              "      <td>2200</td>\n",
              "      <td>199.0</td>\n",
              "    </tr>\n",
              "    <tr>\n",
              "      <th>6</th>\n",
              "      <td>6</td>\n",
              "      <td>0.105056</td>\n",
              "      <td>2122.121873</td>\n",
              "      <td>2600</td>\n",
              "      <td>2122.0</td>\n",
              "    </tr>\n",
              "    <tr>\n",
              "      <th>7</th>\n",
              "      <td>7</td>\n",
              "      <td>0.062701</td>\n",
              "      <td>1266.562857</td>\n",
              "      <td>3000</td>\n",
              "      <td>1267.0</td>\n",
              "    </tr>\n",
              "    <tr>\n",
              "      <th>8</th>\n",
              "      <td>8</td>\n",
              "      <td>0.149590</td>\n",
              "      <td>3021.717014</td>\n",
              "      <td>3400</td>\n",
              "      <td>3022.0</td>\n",
              "    </tr>\n",
              "    <tr>\n",
              "      <th>9</th>\n",
              "      <td>9</td>\n",
              "      <td>0.096128</td>\n",
              "      <td>1941.783453</td>\n",
              "      <td>4000</td>\n",
              "      <td>1942.0</td>\n",
              "    </tr>\n",
              "  </tbody>\n",
              "</table>\n",
              "</div>"
            ],
            "text/plain": [
              "  class_name  class_weight  re_class_counts  row_distribution  update_num\n",
              "0          0      0.164746      3327.872937               200      3128.0\n",
              "1          1      0.017336       350.192048               600       350.0\n",
              "2          2      0.101007      2040.340496              1000      1040.0\n",
              "3          3      0.099554      2010.983079              1400       611.0\n",
              "4          4      0.085124      1719.505865              1800      1720.0\n",
              "5          5      0.118758      2398.920378              2200       199.0\n",
              "6          6      0.105056      2122.121873              2600      2122.0\n",
              "7          7      0.062701      1266.562857              3000      1267.0\n",
              "8          8      0.149590      3021.717014              3400      3022.0\n",
              "9          9      0.096128      1941.783453              4000      1942.0"
            ]
          },
          "metadata": {},
          "execution_count": 21
        }
      ]
    },
    {
      "cell_type": "code",
      "metadata": {
        "id": "DWBVx7W7tCFz"
      },
      "source": [
        "#Update the number of samples based on the results of report_re002\n",
        "#If re_class_counts> row_distribution, data augmentation update_num number of samples\n",
        "#If re_class_counts <row_distribution, randomly sample update_num number of samples\n",
        "\n",
        "ds_change_0 = img_add(X_train_list[0], 3128)\n",
        "#ds_change_1 = img_add(X_train_list[1], 1315)\n",
        "ds_change_1 = np.array(random.sample(list(X_train_list[1]), 350))\n",
        "ds_change_2 = img_add(X_train_list[2], 1040)\n",
        "ds_change_3 = img_add(X_train_list[3], 611)\n",
        "\n",
        "#ds_change_4 = img_add(X_train_list[4], 164)\n",
        "ds_change_4 = np.array(random.sample(list(X_train_list[4]), 1720))\n",
        "\n",
        "ds_change_5 = img_add(X_train_list[5], 199)\n",
        "#ds_change_5 = np.array(random.sample(list(X_train_list[5]), 2728))\n",
        "\n",
        "ds_change_6 = np.array(random.sample(list(X_train_list[6]), 2122))\n",
        "ds_change_7 = np.array(random.sample(list(X_train_list[7]), 1267))\n",
        "ds_change_8 = np.array(random.sample(list(X_train_list[8]), 3022))\n",
        "ds_change_9 = np.array(random.sample(list(X_train_list[9]), 1942))"
      ],
      "execution_count": null,
      "outputs": []
    },
    {
      "cell_type": "code",
      "metadata": {
        "id": "ORHBN-mFtCIi"
      },
      "source": [
        "x_train_new = np.vstack((ds_change_0,ds_change_1))\n",
        "x_train_new = np.vstack((x_train_new,ds_change_2))\n",
        "x_train_new = np.vstack((x_train_new,ds_change_3))\n",
        "x_train_new = np.vstack((x_train_new,ds_change_4))\n",
        "x_train_new = np.vstack((x_train_new,ds_change_5))\n",
        "x_train_new = np.vstack((x_train_new,ds_change_6))\n",
        "x_train_new = np.vstack((x_train_new,ds_change_7))\n",
        "x_train_new = np.vstack((x_train_new,ds_change_8))\n",
        "x_train_new = np.vstack((x_train_new,ds_change_9))"
      ],
      "execution_count": null,
      "outputs": []
    },
    {
      "cell_type": "code",
      "metadata": {
        "id": "VDv9LBlftCK5"
      },
      "source": [
        "def new_array(row,nmb):\n",
        "  new_arr = np.zeros((row,1))\n",
        "  for i in range(row):\n",
        "    new_arr[i] = np.array([nmb])\n",
        "  return new_arr\n",
        "\n",
        "def change_y(update__):\n",
        "  \"\"\"\n",
        "  update_list:The update size relate to F1-score\n",
        "  \"\"\"\n",
        "  update_list=[]\n",
        "  for i in range(len(update__)):\n",
        "    _y=new_array(update__[i],i)\n",
        "    update_list.append(_y)\n",
        "  y_train_new = np.vstack((update_list[0],update_list[1]))\n",
        "  for j in range(len(update_list)):\n",
        "     if(j>=2):\n",
        "      y_train_new = np.vstack((y_train_new,update_list[j]))\n",
        "\n",
        "  #One-hot coding\n",
        "  y_train_new_oh = to_categorical(y_train_new)\n",
        "\n",
        "  return y_train_new_oh"
      ],
      "execution_count": null,
      "outputs": []
    },
    {
      "cell_type": "code",
      "metadata": {
        "id": "_0rLsZZztCNv"
      },
      "source": [
        "#Corresponding sequence input y number of samples input according to the following conditions\n",
        "#If re_class_counts> row_distribution, number(y) = update_num + row_distribution\n",
        "#If re_class_counts <row_distribution, number(y) = update_num\n",
        "y_train_new_oh = change_y([3328,350,2040,2011,1720,2399,2122,1267,3022,1942])"
      ],
      "execution_count": null,
      "outputs": []
    },
    {
      "cell_type": "code",
      "metadata": {
        "id": "CnfAUOKd1mIT"
      },
      "source": [
        "# Allow the parameters of all layers of baseModel to be learnable\n",
        "for layer in baseModel.layers:\n",
        "    layer.trainable = True"
      ],
      "execution_count": null,
      "outputs": []
    },
    {
      "cell_type": "code",
      "metadata": {
        "id": "IyXbdW5t1mK-"
      },
      "source": [
        "# Callback function for saving model snapshot\n",
        "modelname = \"final_cifar10-resnet50-weights-{epoch:03d}-{val_loss:.4f}.hdf5\" \n",
        "#Note that you need to change the name when you save again later,otherwise it will overwrite the previously saved file with the same name\n",
        "checkpoint = ModelCheckpoint(modelname, monitor=\"val_loss\", mode=\"min\", save_best_only=True)"
      ],
      "execution_count": null,
      "outputs": []
    },
    {
      "cell_type": "code",
      "metadata": {
        "colab": {
          "base_uri": "https://localhost:8080/"
        },
        "id": "7wjhGVyu1mNu",
        "outputId": "0a3afa2b-b738-4bab-8d3b-a67520445e86"
      },
      "source": [
        "# Compile\n",
        "sgd = SGD(lr=0.001, decay=0.001 / 5, momentum=0.9, nesterov=True)\n",
        "model.compile(loss=\"categorical_crossentropy\", optimizer=sgd,metrics=[\"accuracy\"])"
      ],
      "execution_count": null,
      "outputs": [
        {
          "output_type": "stream",
          "name": "stderr",
          "text": [
            "/usr/local/lib/python3.7/dist-packages/keras/optimizer_v2/gradient_descent.py:102: UserWarning: The `lr` argument is deprecated, use `learning_rate` instead.\n",
            "  super(SGD, self).__init__(name, **kwargs)\n"
          ]
        }
      ]
    },
    {
      "cell_type": "code",
      "metadata": {
        "colab": {
          "base_uri": "https://localhost:8080/"
        },
        "id": "WoptVWxU1mQP",
        "outputId": "1824c487-4010-47ad-8c31-c223415e1071"
      },
      "source": [
        "H = model.fit(x_train_new, y_train_new_oh, batch_size=32,\n",
        "                        validation_data=(x_val, y_val_oh),\n",
        "                        callbacks=[checkpoint],\n",
        "                        epochs=5)"
      ],
      "execution_count": null,
      "outputs": [
        {
          "output_type": "stream",
          "name": "stdout",
          "text": [
            "Epoch 1/5\n",
            "632/632 [==============================] - ETA: 0s - loss: 0.7452 - accuracy: 0.8286"
          ]
        },
        {
          "output_type": "stream",
          "name": "stderr",
          "text": [
            "/usr/local/lib/python3.7/dist-packages/keras/engine/functional.py:1410: CustomMaskWarning: Custom mask layers require a config and must override get_config. When loading, the custom mask layer must be passed to the custom_objects argument.\n",
            "  layer_config = serialize_layer_fn(layer)\n"
          ]
        },
        {
          "output_type": "stream",
          "name": "stdout",
          "text": [
            "632/632 [==============================] - 82s 117ms/step - loss: 0.7452 - accuracy: 0.8286 - val_loss: 2.0428 - val_accuracy: 0.2772\n",
            "Epoch 2/5\n",
            "632/632 [==============================] - 74s 116ms/step - loss: 0.1875 - accuracy: 0.9455 - val_loss: 0.0881 - val_accuracy: 0.9725\n",
            "Epoch 3/5\n",
            "632/632 [==============================] - 73s 116ms/step - loss: 0.1242 - accuracy: 0.9635 - val_loss: 0.0701 - val_accuracy: 0.9783\n",
            "Epoch 4/5\n",
            "632/632 [==============================] - 74s 116ms/step - loss: 0.0797 - accuracy: 0.9758 - val_loss: 0.0571 - val_accuracy: 0.9827\n",
            "Epoch 5/5\n",
            "632/632 [==============================] - 74s 117ms/step - loss: 0.0595 - accuracy: 0.9825 - val_loss: 0.0539 - val_accuracy: 0.9836\n"
          ]
        }
      ]
    },
    {
      "cell_type": "code",
      "metadata": {
        "id": "XHzdHPU69IOp",
        "colab": {
          "base_uri": "https://localhost:8080/",
          "height": 299
        },
        "outputId": "a910fe68-8c03-4278-c9b8-131127ff7886"
      },
      "source": [
        "plt.style.use(\"ggplot\")\n",
        "plt.figure()\n",
        "plt.plot(np.arange(0, 5), H.history[\"loss\"], label=\"train_loss\")\n",
        "plt.plot(np.arange(0, 5), H.history[\"val_loss\"], label=\"val_loss\")\n",
        "plt.plot(np.arange(0, 5), H.history[\"accuracy\"], label=\"train_acc\")\n",
        "plt.plot(np.arange(0, 5), H.history[\"val_accuracy\"], label=\"val_acc\")\n",
        "plt.title(\"Training Loss and Accuracy\")\n",
        "plt.xlabel(\"Epoch #\")\n",
        "plt.ylabel(\"Loss/Accuracy\")\n",
        "plt.legend()\n",
        "plt.show()"
      ],
      "execution_count": null,
      "outputs": [
        {
          "output_type": "display_data",
          "data": {
            "image/png": "[encoded data removed]",
            "text/plain": [
              "<Figure size 432x288 with 1 Axes>"
            ]
          },
          "metadata": {}
        }
      ]
    },
    {
      "cell_type": "code",
      "metadata": {
        "id": "AqwYSFzc9ncT",
        "colab": {
          "base_uri": "https://localhost:8080/"
        },
        "outputId": "cd88da3e-7b46-405d-c9de-3d0a86eae4b9"
      },
      "source": [
        "print(\"train_loss: \",H.history[\"loss\"])\n",
        "print(\"val_loss: \",H.history[\"val_loss\"])\n",
        "print(\"train_accuracy: \",H.history[\"accuracy\"])\n",
        "print(\"val_accuracy: \",H.history[\"val_accuracy\"])"
      ],
      "execution_count": null,
      "outputs": [
        {
          "output_type": "stream",
          "name": "stdout",
          "text": [
            "train_loss:  [0.7452309131622314, 0.1875341385602951, 0.1242365911602974, 0.07966700196266174, 0.05945723503828049]\n",
            "val_loss:  [2.0427684783935547, 0.0880860835313797, 0.07009933888912201, 0.057092975825071335, 0.05392588675022125]\n",
            "train_accuracy:  [0.8285728693008423, 0.9455472230911255, 0.9634671807289124, 0.9757933020591736, 0.982525646686554]\n",
            "val_accuracy:  [0.2772499918937683, 0.9725000262260437, 0.9783333539962769, 0.9826666712760925, 0.9835833311080933]\n"
          ]
        }
      ]
    },
    {
      "cell_type": "code",
      "metadata": {
        "id": "Eabaj5w43OHL",
        "colab": {
          "base_uri": "https://localhost:8080/"
        },
        "outputId": "fadf67db-bde8-4cba-9a82-55967bc29cbe"
      },
      "source": [
        "#Classification evaluation report\n",
        "preds = model.predict(x_val, batch_size=32)\n",
        "print(classification_report(y_val_oh.argmax(axis=1),preds.argmax(axis=1), digits=4))"
      ],
      "execution_count": null,
      "outputs": [
        {
          "output_type": "stream",
          "name": "stdout",
          "text": [
            "              precision    recall  f1-score   support\n",
            "\n",
            "           0     0.9940    0.9905    0.9922      1163\n",
            "           1     0.9962    0.9808    0.9884      1352\n",
            "           2     0.9768    0.9709    0.9739      1170\n",
            "           3     0.9799    0.9882    0.9840      1182\n",
            "           4     0.9811    0.9888    0.9849      1158\n",
            "           5     0.9586    0.9944    0.9762      1071\n",
            "           6     0.9920    0.9896    0.9908      1251\n",
            "           7     0.9924    0.9804    0.9863      1324\n",
            "           8     0.9782    0.9863    0.9822      1093\n",
            "           9     0.9820    0.9684    0.9752      1236\n",
            "\n",
            "    accuracy                         0.9836     12000\n",
            "   macro avg     0.9831    0.9838    0.9834     12000\n",
            "weighted avg     0.9837    0.9836    0.9836     12000\n",
            "\n"
          ]
        }
      ]
    },
    {
      "cell_type": "markdown",
      "metadata": {
        "id": "IZn5ALKuLJP3"
      },
      "source": [
        "According to the F1-score results, the training set is continuously updated and iteratively learned until the specified number of iterations is reached."
      ]
    },
    {
      "cell_type": "markdown",
      "metadata": {
        "id": "1HTMlKwqLMfz"
      },
      "source": [
        "## Model Evaluation"
      ]
    },
    {
      "cell_type": "code",
      "metadata": {
        "id": "9l47A2hEg5RM",
        "colab": {
          "base_uri": "https://localhost:8080/"
        },
        "outputId": "a76d7120-9e04-4ee0-a2ce-a2447155167f"
      },
      "source": [
        "# Results on the test set\n",
        "preds = model.predict(x_test, batch_size=32)\n",
        "print(classification_report(y_test_oh.argmax(axis=1),preds.argmax(axis=1), digits=4))"
      ],
      "execution_count": null,
      "outputs": [
        {
          "output_type": "stream",
          "name": "stdout",
          "text": [
            "              precision    recall  f1-score   support\n",
            "\n",
            "           0     0.9990    0.9898    0.9944       980\n",
            "           1     0.9973    0.9868    0.9920      1135\n",
            "           2     0.9787    0.9777    0.9782      1032\n",
            "           3     0.9812    0.9822    0.9817      1010\n",
            "           4     0.9959    0.9857    0.9908       982\n",
            "           5     0.9591    0.9989    0.9786       892\n",
            "           6     0.9895    0.9854    0.9874       958\n",
            "           7     0.9855    0.9883    0.9869      1028\n",
            "           8     0.9887    0.9856    0.9871       974\n",
            "           9     0.9871    0.9851    0.9861      1009\n",
            "\n",
            "    accuracy                         0.9864     10000\n",
            "   macro avg     0.9862    0.9866    0.9863     10000\n",
            "weighted avg     0.9865    0.9864    0.9864     10000\n",
            "\n"
          ]
        }
      ]
    }
  ]
}