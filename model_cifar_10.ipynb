{
  "nbformat": 4,
  "nbformat_minor": 0,
  "metadata": {
    "colab": {
      "name": "Model_V3_0.ipynb",
      "provenance": []
    },
    "kernelspec": {
      "name": "python3",
      "display_name": "Python 3"
    },
    "language_info": {
      "name": "python"
    },
    "accelerator": "GPU"
  },
  "cells": [
    {
      "cell_type": "code",
      "metadata": {
        "id": "6ee6YZrJVCId"
      },
      "source": [
        "# keras相关包\n",
        "from tensorflow.keras.applications import ResNet50\n",
        "from keras.layers import Flatten\n",
        "from keras.layers import Dense\n",
        "from keras.layers import Input\n",
        "from keras.models import Model\n",
        "from tensorflow.keras.optimizers import SGD\n",
        "from keras.preprocessing.image import ImageDataGenerator\n",
        "from keras.callbacks import ModelCheckpoint\n",
        "from keras.preprocessing.image import load_img\n",
        "from keras.preprocessing.image import img_to_array\n",
        "from keras.utils.np_utils import to_categorical\n",
        "from keras.preprocessing.image import ImageDataGenerator\n",
        "from keras.preprocessing.image import img_to_array\n",
        "from keras.preprocessing.image import load_img\n",
        "\n",
        "import random\n",
        "# sklearn相关包\n",
        "from sklearn.metrics import classification_report\n",
        "from sklearn.preprocessing import LabelBinarizer\n",
        "from sklearn.feature_extraction.image import extract_patches_2d\n",
        "\n",
        "import numpy as np\n",
        "import cv2\n",
        "import os\n",
        "from imutils import paths\n",
        "import progressbar\n",
        "\n",
        "# 作图\n",
        "import matplotlib.pyplot as plt\n",
        "%matplotlib inline\n",
        "\n",
        "#Basic Tool\n",
        "import pandas as pd\n",
        "import sys\n",
        "import io"
      ],
      "execution_count": 1,
      "outputs": []
    },
    {
      "cell_type": "code",
      "metadata": {
        "colab": {
          "base_uri": "https://localhost:8080/"
        },
        "id": "2FMdIUV5YTcg",
        "outputId": "2674b027-c6de-4c72-8934-e9d7878adb92"
      },
      "source": [
        "from google.colab import drive\n",
        "drive.mount('/content/drive')"
      ],
      "execution_count": 2,
      "outputs": [
        {
          "output_type": "stream",
          "name": "stdout",
          "text": [
            "Mounted at /content/drive\n"
          ]
        }
      ]
    },
    {
      "cell_type": "markdown",
      "metadata": {
        "id": "lfwXRtyMoxIS"
      },
      "source": [
        "### 加载cifar-10数据集"
      ]
    },
    {
      "cell_type": "code",
      "metadata": {
        "id": "i1wBSDooZS2H"
      },
      "source": [
        "#设置随机种子\n",
        "np.random.seed(161)\n",
        "\n",
        "from keras.datasets import cifar10"
      ],
      "execution_count": 3,
      "outputs": []
    },
    {
      "cell_type": "code",
      "metadata": {
        "id": "uW5QFPVmYTfH",
        "colab": {
          "base_uri": "https://localhost:8080/"
        },
        "outputId": "f5abc9d0-51a7-4f84-ba68-ce82e66ba7f3"
      },
      "source": [
        "#读取数据集\n",
        "(x_train, y_train), (x_test, y_test) = cifar10.load_data()\n",
        "\n",
        "#归一化\n",
        "x_train = x_train / 255.0\n",
        "x_test = x_test / 255.0"
      ],
      "execution_count": 4,
      "outputs": [
        {
          "output_type": "stream",
          "name": "stdout",
          "text": [
            "Downloading data from https://www.cs.toronto.edu/~kriz/cifar-10-python.tar.gz\n",
            "170500096/170498071 [==============================] - 3s 0us/step\n",
            "170508288/170498071 [==============================] - 3s 0us/step\n"
          ]
        }
      ]
    },
    {
      "cell_type": "code",
      "metadata": {
        "id": "N6_WPwJ6UyG0"
      },
      "source": [
        "from sklearn.model_selection import train_test_split\n",
        "x_train, x_val, y_train, y_val = train_test_split(x_train, y_train, test_size = 0.20, random_state = 31)"
      ],
      "execution_count": 5,
      "outputs": []
    },
    {
      "cell_type": "markdown",
      "metadata": {
        "id": "7-t-KgUspGSC"
      },
      "source": [
        "### 数据预处理"
      ]
    },
    {
      "cell_type": "code",
      "metadata": {
        "id": "oKLjFyy6YThx"
      },
      "source": [
        "def imbalanceData(__format,X_train,y_train):\n",
        "   \"\"\"\n",
        "   __format：The imbalance want to input\n",
        "   X_train:Train Set\n",
        "   y_train:Test Set\n",
        "   \"\"\"\n",
        "   train_classes, train_class_counts=np.unique(y_train, return_counts=True)\n",
        "   nb_train_classes = len(train_classes)\n",
        "   class_indices = [np.where(y_train == i)[0] for i in range(nb_train_classes)]\n",
        "   imbal_class_indices = [class_idx[:class_count] for class_idx, class_count in zip(class_indices, __format)]\n",
        "   imbal_class_indices = np.hstack(imbal_class_indices)\n",
        "   y = y_train[imbal_class_indices]\n",
        "   X = x_train[imbal_class_indices]  \n",
        "   return X,y"
      ],
      "execution_count": 7,
      "outputs": []
    },
    {
      "cell_type": "code",
      "metadata": {
        "id": "eLH7fVA4YTkx"
      },
      "source": [
        "imbal_class_counts=[250,750,1250,1750,2250,2750,3250,3750,4250,5000]\n",
        "imbal_class_counts=[int(i * 4/5) for i in imbal_class_counts]\n",
        "x_train,y_train=imbalanceData(imbal_class_counts,x_train,y_train)"
      ],
      "execution_count": 8,
      "outputs": []
    },
    {
      "cell_type": "code",
      "metadata": {
        "id": "qRDRptn-YTnb"
      },
      "source": [
        "# Y 热编码\n",
        "y_train_oh = to_categorical(y_train)\n",
        "y_val_oh = to_categorical(y_val)\n",
        "y_test_oh = to_categorical(y_test)"
      ],
      "execution_count": 9,
      "outputs": []
    },
    {
      "cell_type": "markdown",
      "metadata": {
        "id": "0jjkSEJLpRym"
      },
      "source": [
        "### ResNet50"
      ]
    },
    {
      "cell_type": "code",
      "metadata": {
        "id": "2upiXcmhYTqC",
        "colab": {
          "base_uri": "https://localhost:8080/"
        },
        "outputId": "9d1b48d7-b6ec-4e6d-97f0-93da3f3bdd10"
      },
      "source": [
        "# 加载不包含top层的ResNet50作为baseModel\n",
        "baseModel = ResNet50(weights=\"imagenet\", include_top=False, input_tensor=Input(shape=(32, 32, 3)))"
      ],
      "execution_count": 10,
      "outputs": [
        {
          "output_type": "stream",
          "name": "stdout",
          "text": [
            "Downloading data from https://storage.googleapis.com/tensorflow/keras-applications/resnet/resnet50_weights_tf_dim_ordering_tf_kernels_notop.h5\n",
            "94773248/94765736 [==============================] - 1s 0us/step\n",
            "94781440/94765736 [==============================] - 1s 0us/step\n"
          ]
        }
      ]
    },
    {
      "cell_type": "code",
      "metadata": {
        "id": "wlHMqhjFYTsq"
      },
      "source": [
        "def headmodel(baseModel):\n",
        "    # 在baseModel基础上添加新的层\n",
        "    headModel = baseModel.output\n",
        "    \n",
        "    # 新的 top 层\n",
        "    headModel = Flatten()(headModel)\n",
        "    headModel = Dense(10, activation=\"softmax\")(headModel)\n",
        "    return headModel"
      ],
      "execution_count": 11,
      "outputs": []
    },
    {
      "cell_type": "code",
      "metadata": {
        "id": "QHwIZeQeYTvS"
      },
      "source": [
        "headModel = headmodel(baseModel)\n",
        "model = Model(inputs=baseModel.input, outputs=headModel)"
      ],
      "execution_count": 12,
      "outputs": []
    },
    {
      "cell_type": "code",
      "metadata": {
        "colab": {
          "base_uri": "https://localhost:8080/"
        },
        "id": "wGhCAx4DYTx7",
        "outputId": "d09b62ff-2eaf-4691-f794-6b077030c84b"
      },
      "source": [
        "# 保存模型快照的回调函数\n",
        "modelname = \"cifar10-resnet50-weights-{epoch:03d}-{val_loss:.4f}.hdf5\"\n",
        "\n",
        "#monitor参数为val loss时，mode选参为min；save_best_only：当设置为True时，将只保存在验证集上性能最好的模型\n",
        "checkpoint = ModelCheckpoint(modelname, monitor=\"val_loss\", mode=\"min\", save_best_only=True)\n",
        "\n",
        "# 冻结住baseModel所有层的参数不学习\n",
        "for layer in baseModel.layers:\n",
        "    layer.trainable = False\n",
        "\n",
        "# 编译\n",
        "# 学习率经过调参为0.01；将优化器设置为SGD(lr=learning rate, decay=learning rate/nb_ephoch, momentum=0.9, nesterov=True) st.学习速率随着训练轮次进行变化\n",
        "sgd = SGD(lr=0.01, decay=0.01/20, momentum=0.9, nesterov=True) \n",
        "model.compile(loss=\"categorical_crossentropy\", optimizer=sgd, metrics=[\"accuracy\"])"
      ],
      "execution_count": 13,
      "outputs": [
        {
          "output_type": "stream",
          "name": "stderr",
          "text": [
            "/usr/local/lib/python3.7/dist-packages/keras/optimizer_v2/gradient_descent.py:102: UserWarning: The `lr` argument is deprecated, use `learning_rate` instead.\n",
            "  super(SGD, self).__init__(name, **kwargs)\n"
          ]
        }
      ]
    },
    {
      "cell_type": "code",
      "metadata": {
        "colab": {
          "base_uri": "https://localhost:8080/"
        },
        "id": "LMQrHXlfYT0v",
        "outputId": "e315c587-5a5d-45f3-da41-36b770149972"
      },
      "source": [
        "H = model.fit(x_train, y_train_oh, batch_size=32,\n",
        "                        validation_data=(x_val, y_val_oh),\n",
        "                        callbacks=[checkpoint],\n",
        "                        epochs=20)\n"
      ],
      "execution_count": 14,
      "outputs": [
        {
          "output_type": "stream",
          "name": "stdout",
          "text": [
            "Epoch 1/20\n",
            "632/632 [==============================] - ETA: 0s - loss: 29.2257 - accuracy: 0.1864"
          ]
        },
        {
          "output_type": "stream",
          "name": "stderr",
          "text": [
            "/usr/local/lib/python3.7/dist-packages/keras/engine/functional.py:1410: CustomMaskWarning: Custom mask layers require a config and must override get_config. When loading, the custom mask layer must be passed to the custom_objects argument.\n",
            "  layer_config = serialize_layer_fn(layer)\n"
          ]
        },
        {
          "output_type": "stream",
          "name": "stdout",
          "text": [
            "632/632 [==============================] - 59s 44ms/step - loss: 29.2257 - accuracy: 0.1864 - val_loss: 10.8575 - val_accuracy: 0.2257\n",
            "Epoch 2/20\n",
            "632/632 [==============================] - 28s 44ms/step - loss: 12.1959 - accuracy: 0.2588 - val_loss: 21.2719 - val_accuracy: 0.1617\n",
            "Epoch 3/20\n",
            "632/632 [==============================] - 25s 40ms/step - loss: 7.4299 - accuracy: 0.3047 - val_loss: 11.3689 - val_accuracy: 0.1521\n",
            "Epoch 4/20\n",
            "632/632 [==============================] - 25s 40ms/step - loss: 5.0196 - accuracy: 0.3325 - val_loss: 5.5224 - val_accuracy: 0.2137\n",
            "Epoch 5/20\n",
            "632/632 [==============================] - 25s 40ms/step - loss: 3.8089 - accuracy: 0.3525 - val_loss: 7.7123 - val_accuracy: 0.1439\n",
            "Epoch 6/20\n",
            "632/632 [==============================] - 25s 40ms/step - loss: 3.0182 - accuracy: 0.3711 - val_loss: 4.3283 - val_accuracy: 0.2258\n",
            "Epoch 7/20\n",
            "632/632 [==============================] - 25s 40ms/step - loss: 2.5860 - accuracy: 0.3834 - val_loss: 3.2462 - val_accuracy: 0.2795\n",
            "Epoch 8/20\n",
            "632/632 [==============================] - 25s 40ms/step - loss: 2.2925 - accuracy: 0.3980 - val_loss: 3.3315 - val_accuracy: 0.2574\n",
            "Epoch 9/20\n",
            "632/632 [==============================] - 25s 39ms/step - loss: 2.0782 - accuracy: 0.4145 - val_loss: 4.5027 - val_accuracy: 0.2459\n",
            "Epoch 10/20\n",
            "632/632 [==============================] - 28s 45ms/step - loss: 1.9221 - accuracy: 0.4303 - val_loss: 2.8448 - val_accuracy: 0.2631\n",
            "Epoch 11/20\n",
            "632/632 [==============================] - 26s 40ms/step - loss: 1.8410 - accuracy: 0.4348 - val_loss: 2.6165 - val_accuracy: 0.2853\n",
            "Epoch 12/20\n",
            "632/632 [==============================] - 25s 39ms/step - loss: 1.7521 - accuracy: 0.4452 - val_loss: 3.4169 - val_accuracy: 0.2050\n",
            "Epoch 13/20\n",
            "632/632 [==============================] - 25s 39ms/step - loss: 1.6886 - accuracy: 0.4559 - val_loss: 3.3221 - val_accuracy: 0.2197\n",
            "Epoch 14/20\n",
            "632/632 [==============================] - 25s 40ms/step - loss: 1.6516 - accuracy: 0.4595 - val_loss: 2.6131 - val_accuracy: 0.2689\n",
            "Epoch 15/20\n",
            "632/632 [==============================] - 25s 40ms/step - loss: 1.6200 - accuracy: 0.4695 - val_loss: 3.3050 - val_accuracy: 0.1889\n",
            "Epoch 16/20\n",
            "632/632 [==============================] - 25s 39ms/step - loss: 1.6192 - accuracy: 0.4679 - val_loss: 3.0708 - val_accuracy: 0.2311\n",
            "Epoch 17/20\n",
            "632/632 [==============================] - 28s 44ms/step - loss: 1.5931 - accuracy: 0.4727 - val_loss: 2.2292 - val_accuracy: 0.3209\n",
            "Epoch 18/20\n",
            "632/632 [==============================] - 28s 44ms/step - loss: 1.5610 - accuracy: 0.4803 - val_loss: 2.6340 - val_accuracy: 0.2395\n",
            "Epoch 19/20\n",
            "632/632 [==============================] - 25s 39ms/step - loss: 1.5473 - accuracy: 0.4836 - val_loss: 2.6222 - val_accuracy: 0.2967\n",
            "Epoch 20/20\n",
            "632/632 [==============================] - 28s 45ms/step - loss: 1.5398 - accuracy: 0.4858 - val_loss: 2.0832 - val_accuracy: 0.3363\n"
          ]
        }
      ]
    },
    {
      "cell_type": "code",
      "metadata": {
        "colab": {
          "base_uri": "https://localhost:8080/",
          "height": 299
        },
        "id": "mn3FUa_1YT3Y",
        "outputId": "b83a8750-ea72-405b-e823-8d5bc3739d44"
      },
      "source": [
        "# 绘制loss和accuracy曲线\n",
        "plt.style.use(\"ggplot\")\n",
        "plt.figure()\n",
        "plt.plot(np.arange(0, 20), H.history[\"loss\"], label=\"train_loss\")\n",
        "plt.plot(np.arange(0, 20), H.history[\"val_loss\"], label=\"val_loss\")\n",
        "plt.plot(np.arange(0, 20), H.history[\"accuracy\"], label=\"train_acc\")\n",
        "plt.plot(np.arange(0, 20), H.history[\"val_accuracy\"], label=\"val_acc\")\n",
        "plt.title(\"Training Loss and Accuracy\")\n",
        "plt.title(\"Training and val Loss\")\n",
        "plt.xlabel(\"Epoch #\")\n",
        "plt.ylabel(\"Loss\")\n",
        "plt.legend()\n",
        "plt.show()"
      ],
      "execution_count": 15,
      "outputs": [
        {
          "output_type": "display_data",
          "data": {
            "image/png": "[encoded data removed]",
            "text/plain": [
              "<Figure size 432x288 with 1 Axes>"
            ]
          },
          "metadata": {}
        }
      ]
    },
    {
      "cell_type": "markdown",
      "metadata": {
        "id": "hYGfTKs-rNFX"
      },
      "source": [
        "### 依据F1-score更新训练集"
      ]
    },
    {
      "cell_type": "code",
      "metadata": {
        "id": "DZ4xEyjCYT6O",
        "colab": {
          "base_uri": "https://localhost:8080/"
        },
        "outputId": "3ebdf052-1f07-4d77-8f1e-e6b9359df591"
      },
      "source": [
        "# Classified evaluation report\n",
        "preds = model.predict(x_val, batch_size=32)\n",
        "print(classification_report(y_val_oh.argmax(axis=1),preds.argmax(axis=1), digits=4))"
      ],
      "execution_count": 16,
      "outputs": [
        {
          "output_type": "stream",
          "name": "stdout",
          "text": [
            "              precision    recall  f1-score   support\n",
            "\n",
            "           0     0.8000    0.0040    0.0079      1007\n",
            "           1     0.3421    0.5945    0.4342      1011\n",
            "           2     0.2857    0.3884    0.3292       999\n",
            "           3     0.2497    0.4205    0.3133      1006\n",
            "           4     0.7500    0.0029    0.0058      1039\n",
            "           5     0.7963    0.0857    0.1547      1004\n",
            "           6     0.6318    0.1846    0.2857      1013\n",
            "           7     0.3415    0.6781    0.4542       991\n",
            "           8     0.3118    0.8117    0.4505       940\n",
            "           9     0.6501    0.2384    0.3489       990\n",
            "\n",
            "    accuracy                         0.3363     10000\n",
            "   macro avg     0.5159    0.3409    0.2784     10000\n",
            "weighted avg     0.5182    0.3363    0.2761     10000\n",
            "\n"
          ]
        }
      ]
    },
    {
      "cell_type": "code",
      "metadata": {
        "id": "9_QDu2KZrnV5",
        "colab": {
          "base_uri": "https://localhost:8080/"
        },
        "outputId": "24e18193-ba48-424f-bfe2-81b196e6ffde"
      },
      "source": [
        "final_report = classification_report(y_val_oh.argmax(axis=1),preds.argmax(axis=1), digits=4)\n",
        "report_pd = pd.read_csv(io.StringIO(final_report), delim_whitespace=True, error_bad_lines=False)"
      ],
      "execution_count": 36,
      "outputs": [
        {
          "output_type": "stream",
          "name": "stderr",
          "text": [
            "b'Skipping line 15: expected 5 fields, saw 6\\nSkipping line 16: expected 5 fields, saw 6\\n'\n"
          ]
        }
      ]
    },
    {
      "cell_type": "code",
      "metadata": {
        "id": "uH6YVRQNrnY8",
        "colab": {
          "base_uri": "https://localhost:8080/"
        },
        "outputId": "69378445-b54b-4f5b-9997-bce8a81be304"
      },
      "source": [
        "report_re = report_pd[:10]\n",
        "report_re = report_re.reset_index()\n",
        "report_re = report_re[[\"index\", \"f1-score\"]]\n",
        "report_re.columns=['class_name','f1_score']\n",
        "#1-F1 score used for uodating the sample size \n",
        "report_re['1-f1_score'] = 1-report_re['f1_score']\n",
        "ds_sum = report_re['1-f1_score'].sum() \n",
        "report_re[\"class_weight\"] = report_re[\"1-f1_score\"]/ds_sum\n",
        "report_re[\"re_class_counts\"] = (report_re[\"1-f1_score\"]/ds_sum)*len(x_train)\n",
        "report_re[\"row_distribution\"] = pd.DataFrame(imbal_class_counts)\n",
        "report_re['tt'] = report_re['re_class_counts'] - report_re['row_distribution']\n",
        "report_re.loc[report_re[\"tt\"]<0,\"tt\"] = report_re[\"re_class_counts\"]\n",
        "report_re002 = report_re[[\"class_name\",\"class_weight\",\"re_class_counts\",\"row_distribution\",\"tt\"]]\n",
        "report_re002[\"tt\"] = round(report_re002[\"tt\"])\n",
        "report_re002.columns=['class_name',\"class_weight\",\"re_class_counts\",\"row_distribution\",\"update_num\"]"
      ],
      "execution_count": 37,
      "outputs": [
        {
          "output_type": "stream",
          "name": "stderr",
          "text": [
            "/usr/local/lib/python3.7/dist-packages/ipykernel_launcher.py:14: SettingWithCopyWarning: \n",
            "A value is trying to be set on a copy of a slice from a DataFrame.\n",
            "Try using .loc[row_indexer,col_indexer] = value instead\n",
            "\n",
            "See the caveats in the documentation: https://pandas.pydata.org/pandas-docs/stable/user_guide/indexing.html#returning-a-view-versus-a-copy\n",
            "  \n"
          ]
        }
      ]
    },
    {
      "cell_type": "code",
      "metadata": {
        "id": "i1bu5kW1rnbU"
      },
      "source": [
        "def choosingImages(x_train,y_train):\n",
        "  c_X_train=[]\n",
        "  for i in range(10):\n",
        "    # print(i)\n",
        "    class_indices_=[np.where(y_train == i)[0]]\n",
        "    x_train_ = x_train[class_indices_]\n",
        "    c_X_train.append(x_train_)\n",
        "  return c_X_train"
      ],
      "execution_count": 38,
      "outputs": []
    },
    {
      "cell_type": "code",
      "metadata": {
        "id": "gNiqxgJjrnd3",
        "colab": {
          "base_uri": "https://localhost:8080/"
        },
        "outputId": "8d08de74-bab7-4c55-adf1-58648a43c884"
      },
      "source": [
        "X_train_list=choosingImages(x_train,y_train)"
      ],
      "execution_count": 39,
      "outputs": [
        {
          "output_type": "stream",
          "name": "stderr",
          "text": [
            "/usr/local/lib/python3.7/dist-packages/ipykernel_launcher.py:6: FutureWarning: Using a non-tuple sequence for multidimensional indexing is deprecated; use `arr[tuple(seq)]` instead of `arr[seq]`. In the future this will be interpreted as an array index, `arr[np.array(seq)]`, which will result either in an error or a different result.\n",
            "  \n"
          ]
        }
      ]
    },
    {
      "cell_type": "code",
      "metadata": {
        "id": "nM2p8RFqtCAZ"
      },
      "source": [
        "def data_augmentation(img, number):\n",
        "  image = np.expand_dims(img, axis=0)\n",
        "  # Instantiate the image generator class to specify some common image augmentation parameters\n",
        "  aug = ImageDataGenerator(rotation_range=30,\n",
        "                width_shift_range=0.1,\n",
        "                height_shift_range=0.1, \n",
        "                shear_range=0.2, \n",
        "                zoom_range=0.2,\n",
        "                horizontal_flip=True,\n",
        "                fill_mode=\"nearest\")\n",
        "    \n",
        "  imageGen = aug.flow(image, batch_size=1)\n",
        "  # aug.flow??\n",
        "\n",
        "  total = 0\n",
        "  imglist = []\n",
        "  for x in imageGen:\n",
        "    total += 1\n",
        "    imglist.append(x)\n",
        "    if total == number:\n",
        "      break\n",
        "\n",
        "  # imgback = np.array(imglist)\n",
        "  return imglist"
      ],
      "execution_count": 40,
      "outputs": []
    },
    {
      "cell_type": "code",
      "metadata": {
        "id": "YdtjRR2mtCDR"
      },
      "source": [
        "def img_add(x_train_i, num):\n",
        "  img_list = []\n",
        "  for image in x_train_i:\n",
        "    img_list_i = data_augmentation(image, 20)\n",
        "    img_list.extend(img_list_i)\n",
        "  \n",
        "  imgback = random.sample(img_list, num)\n",
        "  imgback = np.array(imgback)\n",
        "  final_x_train_i = np.vstack((x_train_i,imgback.squeeze()))\n",
        "  return final_x_train_i"
      ],
      "execution_count": 22,
      "outputs": []
    },
    {
      "cell_type": "code",
      "metadata": {
        "id": "wNSIFpAx5FIk",
        "colab": {
          "base_uri": "https://localhost:8080/",
          "height": 359
        },
        "outputId": "cdc7d51e-38dc-4847-eb66-217c75527482"
      },
      "source": [
        "report_re002"
      ],
      "execution_count": 41,
      "outputs": [
        {
          "output_type": "execute_result",
          "data": {
            "text/html": [
              "<div>\n",
              "<style scoped>\n",
              "    .dataframe tbody tr th:only-of-type {\n",
              "        vertical-align: middle;\n",
              "    }\n",
              "\n",
              "    .dataframe tbody tr th {\n",
              "        vertical-align: top;\n",
              "    }\n",
              "\n",
              "    .dataframe thead th {\n",
              "        text-align: right;\n",
              "    }\n",
              "</style>\n",
              "<table border=\"1\" class=\"dataframe\">\n",
              "  <thead>\n",
              "    <tr style=\"text-align: right;\">\n",
              "      <th></th>\n",
              "      <th>class_name</th>\n",
              "      <th>class_weight</th>\n",
              "      <th>re_class_counts</th>\n",
              "      <th>row_distribution</th>\n",
              "      <th>update_num</th>\n",
              "    </tr>\n",
              "  </thead>\n",
              "  <tbody>\n",
              "    <tr>\n",
              "      <th>0</th>\n",
              "      <td>0</td>\n",
              "      <td>0.119757</td>\n",
              "      <td>2419.094923</td>\n",
              "      <td>200</td>\n",
              "      <td>2219.0</td>\n",
              "    </tr>\n",
              "    <tr>\n",
              "      <th>1</th>\n",
              "      <td>1</td>\n",
              "      <td>0.093942</td>\n",
              "      <td>1897.620800</td>\n",
              "      <td>600</td>\n",
              "      <td>1298.0</td>\n",
              "    </tr>\n",
              "    <tr>\n",
              "      <th>2</th>\n",
              "      <td>2</td>\n",
              "      <td>0.146002</td>\n",
              "      <td>2949.239637</td>\n",
              "      <td>1000</td>\n",
              "      <td>1949.0</td>\n",
              "    </tr>\n",
              "    <tr>\n",
              "      <th>3</th>\n",
              "      <td>3</td>\n",
              "      <td>0.128240</td>\n",
              "      <td>2590.442319</td>\n",
              "      <td>1400</td>\n",
              "      <td>1190.0</td>\n",
              "    </tr>\n",
              "    <tr>\n",
              "      <th>4</th>\n",
              "      <td>4</td>\n",
              "      <td>0.099849</td>\n",
              "      <td>2016.944649</td>\n",
              "      <td>1800</td>\n",
              "      <td>217.0</td>\n",
              "    </tr>\n",
              "    <tr>\n",
              "      <th>5</th>\n",
              "      <td>5</td>\n",
              "      <td>0.105633</td>\n",
              "      <td>2133.791186</td>\n",
              "      <td>2200</td>\n",
              "      <td>2134.0</td>\n",
              "    </tr>\n",
              "    <tr>\n",
              "      <th>6</th>\n",
              "      <td>6</td>\n",
              "      <td>0.062750</td>\n",
              "      <td>1267.557845</td>\n",
              "      <td>2600</td>\n",
              "      <td>1268.0</td>\n",
              "    </tr>\n",
              "    <tr>\n",
              "      <th>7</th>\n",
              "      <td>7</td>\n",
              "      <td>0.078857</td>\n",
              "      <td>1592.911455</td>\n",
              "      <td>3000</td>\n",
              "      <td>1593.0</td>\n",
              "    </tr>\n",
              "    <tr>\n",
              "      <th>8</th>\n",
              "      <td>8</td>\n",
              "      <td>0.067942</td>\n",
              "      <td>1372.430709</td>\n",
              "      <td>3400</td>\n",
              "      <td>1372.0</td>\n",
              "    </tr>\n",
              "    <tr>\n",
              "      <th>9</th>\n",
              "      <td>9</td>\n",
              "      <td>0.097028</td>\n",
              "      <td>1959.966479</td>\n",
              "      <td>4000</td>\n",
              "      <td>1960.0</td>\n",
              "    </tr>\n",
              "  </tbody>\n",
              "</table>\n",
              "</div>"
            ],
            "text/plain": [
              "  class_name  class_weight  re_class_counts  row_distribution  update_num\n",
              "0          0      0.119757      2419.094923               200      2219.0\n",
              "1          1      0.093942      1897.620800               600      1298.0\n",
              "2          2      0.146002      2949.239637              1000      1949.0\n",
              "3          3      0.128240      2590.442319              1400      1190.0\n",
              "4          4      0.099849      2016.944649              1800       217.0\n",
              "5          5      0.105633      2133.791186              2200      2134.0\n",
              "6          6      0.062750      1267.557845              2600      1268.0\n",
              "7          7      0.078857      1592.911455              3000      1593.0\n",
              "8          8      0.067942      1372.430709              3400      1372.0\n",
              "9          9      0.097028      1959.966479              4000      1960.0"
            ]
          },
          "metadata": {},
          "execution_count": 41
        }
      ]
    },
    {
      "cell_type": "code",
      "metadata": {
        "id": "DWBVx7W7tCFz"
      },
      "source": [
        "#依据report_re002的结果更新样本数\n",
        "#如果re_class_counts > \trow_distribution，数据增广update_num个样本数\n",
        "#如果re_class_counts < \trow_distribution，随机抽样update_num个样本数\n",
        "\n",
        "ds_change_0 = img_add(X_train_list[0], 2219)\n",
        "ds_change_1 = img_add(X_train_list[1], 1298)\n",
        "#ds_change_1 = np.array(random.sample(list(X_train_list[1]), 406))\n",
        "ds_change_2 = img_add(X_train_list[2], 1949)\n",
        "ds_change_3 = img_add(X_train_list[3], 1190)\n",
        "\n",
        "ds_change_4 = img_add(X_train_list[4], 217)\n",
        "#ds_change_4 = np.array(random.sample(list(X_train_list[4]), 2127))\n",
        "\n",
        "#ds_change_5 = img_add(X_train_list[5], 166)\n",
        "ds_change_5 = np.array(random.sample(list(X_train_list[5]), 2134))\n",
        "\n",
        "ds_change_6 = np.array(random.sample(list(X_train_list[6]), 1268))\n",
        "ds_change_7 = np.array(random.sample(list(X_train_list[7]), 1593))\n",
        "ds_change_8 = np.array(random.sample(list(X_train_list[8]), 1372))\n",
        "ds_change_9 = np.array(random.sample(list(X_train_list[9]), 1960))"
      ],
      "execution_count": 42,
      "outputs": []
    },
    {
      "cell_type": "code",
      "metadata": {
        "id": "ORHBN-mFtCIi"
      },
      "source": [
        "x_train_new = np.vstack((ds_change_0,ds_change_1))\n",
        "x_train_new = np.vstack((x_train_new,ds_change_2))\n",
        "x_train_new = np.vstack((x_train_new,ds_change_3))\n",
        "x_train_new = np.vstack((x_train_new,ds_change_4))\n",
        "x_train_new = np.vstack((x_train_new,ds_change_5))\n",
        "x_train_new = np.vstack((x_train_new,ds_change_6))\n",
        "x_train_new = np.vstack((x_train_new,ds_change_7))\n",
        "x_train_new = np.vstack((x_train_new,ds_change_8))\n",
        "x_train_new = np.vstack((x_train_new,ds_change_9))"
      ],
      "execution_count": 43,
      "outputs": []
    },
    {
      "cell_type": "code",
      "metadata": {
        "id": "VDv9LBlftCK5"
      },
      "source": [
        "def new_array(row,nmb):\n",
        "  new_arr = np.zeros((row,1))\n",
        "  for i in range(row):\n",
        "    new_arr[i] = np.array([nmb])\n",
        "  return new_arr\n",
        "\n",
        "def change_y(update__):\n",
        "  \"\"\"\n",
        "  update_list:The update size relate to F1-score\n",
        "  \"\"\"\n",
        "  update_list=[]\n",
        "  for i in range(len(update__)):\n",
        "    _y=new_array(update__[i],i)\n",
        "    update_list.append(_y)\n",
        "  y_train_new = np.vstack((update_list[0],update_list[1]))\n",
        "  for j in range(len(update_list)):\n",
        "     if(j>=2):\n",
        "      y_train_new = np.vstack((y_train_new,update_list[j]))\n",
        "\n",
        "  #One-hot coding\n",
        "  y_train_new_oh = to_categorical(y_train_new)\n",
        "\n",
        "  return y_train_new_oh"
      ],
      "execution_count": 26,
      "outputs": []
    },
    {
      "cell_type": "code",
      "metadata": {
        "id": "_0rLsZZztCNv"
      },
      "source": [
        "#对应序列输入y样本数按下列条件输入\n",
        "#如果re_class_counts > \trow_distribution，number（y） = update_num + row_distribution\n",
        "#如果re_class_counts < \trow_distribution，number（y） = update_num\n",
        "y_train_new_oh = change_y([2419,1898,2949,2590,2017,2134,1268,1593,1372,1960])"
      ],
      "execution_count": 44,
      "outputs": []
    },
    {
      "cell_type": "code",
      "metadata": {
        "id": "CnfAUOKd1mIT"
      },
      "source": [
        "# 允许baseModel所有层的参数都可学习\n",
        "for layer in baseModel.layers:\n",
        "    layer.trainable = True"
      ],
      "execution_count": 45,
      "outputs": []
    },
    {
      "cell_type": "code",
      "metadata": {
        "id": "IyXbdW5t1mK-"
      },
      "source": [
        "# 保存模型快照的回调函数\n",
        "modelname = \"final_cifar10-resnet50-weights-{epoch:03d}-{val_loss:.4f}.hdf5\" #注意后面再次保存的时候需要更换名称 否则会覆盖之前保存的同名文件\n",
        "checkpoint = ModelCheckpoint(modelname, monitor=\"val_loss\", mode=\"min\", save_best_only=True)"
      ],
      "execution_count": 46,
      "outputs": []
    },
    {
      "cell_type": "code",
      "metadata": {
        "id": "7wjhGVyu1mNu",
        "colab": {
          "base_uri": "https://localhost:8080/"
        },
        "outputId": "5e24b8d6-158c-464b-f167-b63af7e28f75"
      },
      "source": [
        "# 编译\n",
        "sgd = SGD(lr=0.001, decay=0.001 / 5, momentum=0.9, nesterov=True)\n",
        "model.compile(loss=\"categorical_crossentropy\", optimizer=sgd,metrics=[\"accuracy\"])"
      ],
      "execution_count": 47,
      "outputs": [
        {
          "output_type": "stream",
          "name": "stderr",
          "text": [
            "/usr/local/lib/python3.7/dist-packages/keras/optimizer_v2/gradient_descent.py:102: UserWarning: The `lr` argument is deprecated, use `learning_rate` instead.\n",
            "  super(SGD, self).__init__(name, **kwargs)\n"
          ]
        }
      ]
    },
    {
      "cell_type": "code",
      "metadata": {
        "id": "WoptVWxU1mQP",
        "colab": {
          "base_uri": "https://localhost:8080/"
        },
        "outputId": "047e83a5-67c3-4776-d228-9313f8e85825"
      },
      "source": [
        "H = model.fit(x_train_new, y_train_new_oh, batch_size=32,\n",
        "                        validation_data=(x_val, y_val_oh),\n",
        "                        callbacks=[checkpoint],\n",
        "                        epochs=5)"
      ],
      "execution_count": null,
      "outputs": [
        {
          "output_type": "stream",
          "name": "stdout",
          "text": [
            "Epoch 1/5\n",
            " 58/632 [=>............................] - ETA: 58s - loss: 1.0542 - accuracy: 0.6724"
          ]
        }
      ]
    },
    {
      "cell_type": "code",
      "metadata": {
        "id": "XHzdHPU69IOp"
      },
      "source": [
        "plt.style.use(\"ggplot\")\n",
        "plt.figure()\n",
        "plt.plot(np.arange(0, 5), H.history[\"loss\"], label=\"train_loss\")\n",
        "plt.plot(np.arange(0, 5), H.history[\"val_loss\"], label=\"val_loss\")\n",
        "plt.plot(np.arange(0, 5), H.history[\"accuracy\"], label=\"train_acc\")\n",
        "plt.plot(np.arange(0, 5), H.history[\"val_accuracy\"], label=\"val_acc\")\n",
        "plt.title(\"Training Loss and Accuracy\")\n",
        "plt.xlabel(\"Epoch #\")\n",
        "plt.ylabel(\"Loss/Accuracy\")\n",
        "plt.legend()\n",
        "plt.show()"
      ],
      "execution_count": null,
      "outputs": []
    },
    {
      "cell_type": "code",
      "metadata": {
        "id": "AqwYSFzc9ncT"
      },
      "source": [
        "print(\"train_loss: \",H.history[\"loss\"])\n",
        "print(\"val_loss: \",H.history[\"val_loss\"])\n",
        "print(\"train_accuracy: \",H.history[\"accuracy\"])\n",
        "print(\"val_accuracy: \",H.history[\"val_accuracy\"])"
      ],
      "execution_count": null,
      "outputs": []
    },
    {
      "cell_type": "code",
      "metadata": {
        "id": "Eabaj5w43OHL"
      },
      "source": [
        "# 分类评估报告\n",
        "preds = model.predict(x_val, batch_size=32)\n",
        "print(classification_report(y_val_oh.argmax(axis=1),preds.argmax(axis=1), digits=4))"
      ],
      "execution_count": null,
      "outputs": []
    },
    {
      "cell_type": "code",
      "metadata": {
        "id": "5_NQfipKZhpb"
      },
      "source": [
        "# 最终测试集上的 结果\n",
        "preds = model.predict(x_test, batch_size=32)\n",
        "print(classification_report(y_test_oh.argmax(axis=1),preds.argmax(axis=1), digits=4))"
      ],
      "execution_count": null,
      "outputs": []
    }
  ]
}